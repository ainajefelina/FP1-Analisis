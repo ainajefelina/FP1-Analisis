{
 "cells": [
  {
   "cell_type": "markdown",
   "metadata": {},
   "source": [
    "# Pendahuluan"
   ]
  },
  {
   "cell_type": "markdown",
   "metadata": {},
   "source": [
    "## Latar Belakang\n",
    "- Di Indonesia pada remaja ini marak penggunaan aplikasi pemesanan online. Dimana harga yang diberikan berbeda - beda. Perbedaan ini mulai dari aplikasi pesanan online yang digunakan, cuaca, jam, jarak, dan masih banyak lagi. Hal ini memberikan suatu rumusan masalah. Apakah faktor - faktor tersebut mempengaruhi harga pesanan secara signifikan? Apa saja faktor yang mempengaruhi harga pesanan secara signifikan?"
   ]
  },
  {
   "cell_type": "markdown",
   "metadata": {},
   "source": [
    "\n",
    "## Data\n",
    "- Data yang digunakan merupakan dataset dari kaggle dengan judul ''Uber and Lyft Dataset Boston, MA''\n",
    "- Pada dataset tersebut terdiri dari 57 kolom fitur dan 693071 baris\n",
    "- Beberapa kolom atau kelas yang tersedia pada dataset adalah sebagai berikut:\n",
    "    - id = berisi identitas pemesanan \n",
    "    - timestamp = catatan digital peristiwa terjadi\n",
    "    - hour, day, month, datetime = waktu pemesanan (26 Nov-19 Des 2018)\n",
    "    - timezone = daerah waktu pemesanan\n",
    "    - source = asal\n",
    "    - destination = tujuan\n",
    "    - cab_type = tipe aplikasi yang digunakan Uber dan Lyft\n",
    "    - terdapat beberapa fitur lain yang berada dalam dataset seperti cuaca, suhu, kecepatan angin, dan jam sore dari data pemesanan\n",
    "- Dataset ini bersumber dari kaggle dimana berisi pesanan dari aplikasi pesan kendaraan online Uber dan Lyft yang beroperasi di daerah New York, Amerika"
   ]
  },
  {
   "cell_type": "markdown",
   "metadata": {},
   "source": [
    "\n",
    "## Tujuan\n",
    "- Dari uraian latar belakang dan data, diharapkan nantinya kita dapat memprediksi harga untuk pemesanan bergantung pada fitur apa saja dengan menggunakan model regresi linear"
   ]
  },
  {
   "cell_type": "markdown",
   "metadata": {},
   "source": [
    "# Import Pustaka"
   ]
  },
  {
   "cell_type": "code",
   "execution_count": 61,
   "metadata": {},
   "outputs": [],
   "source": [
    "import numpy as np\n",
    "import pandas as pd\n",
    "import sklearn\n",
    "import matplotlib.pyplot as plt\n",
    "import seaborn as sb\n",
    "from sklearn import preprocessing\n",
    "from sklearn.preprocessing import OneHotEncoder\n",
    "from scipy import stats\n",
    "from scipy.stats import skew\n",
    "from sklearn import linear_model\n",
    "from sklearn.model_selection import train_test_split\n",
    "from sklearn.linear_model import LinearRegression\n",
    "from sklearn.metrics import r2_score\n",
    "%matplotlib inline "
   ]
  },
  {
   "cell_type": "markdown",
   "metadata": {},
   "source": [
    "# Memuat Data"
   ]
  },
  {
   "cell_type": "code",
   "execution_count": 2,
   "metadata": {},
   "outputs": [
    {
     "data": {
      "text/plain": [
       "(693071, 57)"
      ]
     },
     "execution_count": 2,
     "metadata": {},
     "output_type": "execute_result"
    }
   ],
   "source": [
    "# memanggil data yang akan digunakan\n",
    "df=pd.read_csv('rideshare_kaggle.csv')\n",
    "df.shape"
   ]
  },
  {
   "cell_type": "markdown",
   "metadata": {},
   "source": [
    "- dataset berisi 57 kolom atau fitur dengan 693071 baris atau data pesanan"
   ]
  },
  {
   "cell_type": "code",
   "execution_count": 3,
   "metadata": {},
   "outputs": [
    {
     "name": "stdout",
     "output_type": "stream",
     "text": [
      "<class 'pandas.core.frame.DataFrame'>\n",
      "RangeIndex: 693071 entries, 0 to 693070\n",
      "Data columns (total 57 columns):\n",
      " #   Column                       Non-Null Count   Dtype  \n",
      "---  ------                       --------------   -----  \n",
      " 0   id                           693071 non-null  object \n",
      " 1   timestamp                    693071 non-null  float64\n",
      " 2   hour                         693071 non-null  int64  \n",
      " 3   day                          693071 non-null  int64  \n",
      " 4   month                        693071 non-null  int64  \n",
      " 5   datetime                     693071 non-null  object \n",
      " 6   timezone                     693071 non-null  object \n",
      " 7   source                       693071 non-null  object \n",
      " 8   destination                  693071 non-null  object \n",
      " 9   cab_type                     693071 non-null  object \n",
      " 10  product_id                   693071 non-null  object \n",
      " 11  name                         693071 non-null  object \n",
      " 12  price                        637976 non-null  float64\n",
      " 13  distance                     693071 non-null  float64\n",
      " 14  surge_multiplier             693071 non-null  float64\n",
      " 15  latitude                     693071 non-null  float64\n",
      " 16  longitude                    693071 non-null  float64\n",
      " 17  temperature                  693071 non-null  float64\n",
      " 18  apparentTemperature          693071 non-null  float64\n",
      " 19  short_summary                693071 non-null  object \n",
      " 20  long_summary                 693071 non-null  object \n",
      " 21  precipIntensity              693071 non-null  float64\n",
      " 22  precipProbability            693071 non-null  float64\n",
      " 23  humidity                     693071 non-null  float64\n",
      " 24  windSpeed                    693071 non-null  float64\n",
      " 25  windGust                     693071 non-null  float64\n",
      " 26  windGustTime                 693071 non-null  int64  \n",
      " 27  visibility                   693071 non-null  float64\n",
      " 28  temperatureHigh              693071 non-null  float64\n",
      " 29  temperatureHighTime          693071 non-null  int64  \n",
      " 30  temperatureLow               693071 non-null  float64\n",
      " 31  temperatureLowTime           693071 non-null  int64  \n",
      " 32  apparentTemperatureHigh      693071 non-null  float64\n",
      " 33  apparentTemperatureHighTime  693071 non-null  int64  \n",
      " 34  apparentTemperatureLow       693071 non-null  float64\n",
      " 35  apparentTemperatureLowTime   693071 non-null  int64  \n",
      " 36  icon                         693071 non-null  object \n",
      " 37  dewPoint                     693071 non-null  float64\n",
      " 38  pressure                     693071 non-null  float64\n",
      " 39  windBearing                  693071 non-null  int64  \n",
      " 40  cloudCover                   693071 non-null  float64\n",
      " 41  uvIndex                      693071 non-null  int64  \n",
      " 42  visibility.1                 693071 non-null  float64\n",
      " 43  ozone                        693071 non-null  float64\n",
      " 44  sunriseTime                  693071 non-null  int64  \n",
      " 45  sunsetTime                   693071 non-null  int64  \n",
      " 46  moonPhase                    693071 non-null  float64\n",
      " 47  precipIntensityMax           693071 non-null  float64\n",
      " 48  uvIndexTime                  693071 non-null  int64  \n",
      " 49  temperatureMin               693071 non-null  float64\n",
      " 50  temperatureMinTime           693071 non-null  int64  \n",
      " 51  temperatureMax               693071 non-null  float64\n",
      " 52  temperatureMaxTime           693071 non-null  int64  \n",
      " 53  apparentTemperatureMin       693071 non-null  float64\n",
      " 54  apparentTemperatureMinTime   693071 non-null  int64  \n",
      " 55  apparentTemperatureMax       693071 non-null  float64\n",
      " 56  apparentTemperatureMaxTime   693071 non-null  int64  \n",
      "dtypes: float64(29), int64(17), object(11)\n",
      "memory usage: 301.4+ MB\n"
     ]
    }
   ],
   "source": [
    "# memberikan informasi singkat dari setiap kolom salah satunya tipe data\n",
    "# terdapat data yang berupa data numerik dan kategori data\n",
    "# untuk mempermudah analisis kita dapat memisahkan kedua tipe data tersebut\n",
    "df.info()"
   ]
  },
  {
   "cell_type": "code",
   "execution_count": 4,
   "metadata": {},
   "outputs": [
    {
     "name": "stdout",
     "output_type": "stream",
     "text": [
      "id : 693071\n",
      "timestamp : 36179\n",
      "hour : 24\n",
      "day : 17\n",
      "month : 2\n",
      "datetime : 31350\n",
      "timezone : 1\n",
      "source : 12\n",
      "destination : 12\n",
      "cab_type : 2\n",
      "product_id : 13\n",
      "name : 13\n",
      "price : 148\n",
      "distance : 549\n",
      "surge_multiplier : 7\n",
      "latitude : 11\n",
      "longitude : 12\n",
      "temperature : 308\n",
      "apparentTemperature : 319\n",
      "short_summary : 9\n",
      "long_summary : 11\n",
      "precipIntensity : 63\n",
      "precipProbability : 29\n",
      "humidity : 51\n",
      "windSpeed : 291\n",
      "windGust : 286\n",
      "windGustTime : 25\n",
      "visibility : 227\n",
      "temperatureHigh : 129\n",
      "temperatureHighTime : 23\n",
      "temperatureLow : 133\n",
      "temperatureLowTime : 31\n",
      "apparentTemperatureHigh : 124\n",
      "apparentTemperatureHighTime : 27\n",
      "apparentTemperatureLow : 136\n",
      "apparentTemperatureLowTime : 32\n",
      "icon : 7\n",
      "dewPoint : 313\n",
      "pressure : 316\n",
      "windBearing : 195\n",
      "cloudCover : 83\n",
      "uvIndex : 3\n",
      "visibility.1 : 227\n",
      "ozone : 274\n",
      "sunriseTime : 110\n",
      "sunsetTime : 114\n",
      "moonPhase : 18\n",
      "precipIntensityMax : 65\n",
      "uvIndexTime : 20\n",
      "temperatureMin : 131\n",
      "temperatureMinTime : 25\n",
      "temperatureMax : 128\n",
      "temperatureMaxTime : 23\n",
      "apparentTemperatureMin : 137\n",
      "apparentTemperatureMinTime : 29\n",
      "apparentTemperatureMax : 125\n",
      "apparentTemperatureMaxTime : 27\n"
     ]
    }
   ],
   "source": [
    "# jumlah data yang unik\n",
    "for col in df:\n",
    "    print(f'{col} : {len(df[col].unique())}')"
   ]
  },
  {
   "cell_type": "markdown",
   "metadata": {},
   "source": [
    "# Pembersihan Data"
   ]
  },
  {
   "cell_type": "markdown",
   "metadata": {},
   "source": [
    "## fitur yang tidak terikat"
   ]
  },
  {
   "cell_type": "code",
   "execution_count": 5,
   "metadata": {},
   "outputs": [
    {
     "name": "stdout",
     "output_type": "stream",
     "text": [
      "['America/New_York']\n"
     ]
    }
   ],
   "source": [
    "print(df.timezone.unique())"
   ]
  },
  {
   "cell_type": "code",
   "execution_count": 6,
   "metadata": {},
   "outputs": [
    {
     "name": "stdout",
     "output_type": "stream",
     "text": [
      "[' Rain throughout the day. '\n",
      " ' Rain until morning, starting again in the evening. '\n",
      " ' Light rain in the morning. ' ' Partly cloudy throughout the day. '\n",
      " ' Mostly cloudy throughout the day. '\n",
      " ' Light rain in the morning and overnight. '\n",
      " ' Light rain until evening. ' ' Foggy in the morning. '\n",
      " ' Overcast throughout the day. ' ' Possible drizzle in the morning. '\n",
      " ' Rain in the morning and afternoon. ']\n"
     ]
    }
   ],
   "source": [
    "print(df.long_summary.unique())"
   ]
  },
  {
   "cell_type": "code",
   "execution_count": 7,
   "metadata": {},
   "outputs": [
    {
     "name": "stdout",
     "output_type": "stream",
     "text": [
      "(693071, 57)\n"
     ]
    },
    {
     "data": {
      "text/html": [
       "<div>\n",
       "<style scoped>\n",
       "    .dataframe tbody tr th:only-of-type {\n",
       "        vertical-align: middle;\n",
       "    }\n",
       "\n",
       "    .dataframe tbody tr th {\n",
       "        vertical-align: top;\n",
       "    }\n",
       "\n",
       "    .dataframe thead th {\n",
       "        text-align: right;\n",
       "    }\n",
       "</style>\n",
       "<table border=\"1\" class=\"dataframe\">\n",
       "  <thead>\n",
       "    <tr style=\"text-align: right;\">\n",
       "      <th></th>\n",
       "      <th>price</th>\n",
       "      <th>timestamp</th>\n",
       "      <th>datetime</th>\n",
       "      <th>windGustTime</th>\n",
       "      <th>temperatureHighTime</th>\n",
       "      <th>temperatureLowTime</th>\n",
       "      <th>apparentTemperatureHighTime</th>\n",
       "      <th>apparentTemperatureLowTime</th>\n",
       "      <th>sunriseTime</th>\n",
       "      <th>sunsetTime</th>\n",
       "      <th>uvIndexTime</th>\n",
       "      <th>temperatureMinTime</th>\n",
       "      <th>temperatureMaxTime</th>\n",
       "      <th>apparentTemperatureMinTime</th>\n",
       "      <th>apparentTemperatureMaxTime</th>\n",
       "    </tr>\n",
       "  </thead>\n",
       "  <tbody>\n",
       "    <tr>\n",
       "      <th>0</th>\n",
       "      <td>5.0</td>\n",
       "      <td>1.544953e+09</td>\n",
       "      <td>2018-12-16 09:30:07</td>\n",
       "      <td>1545015600</td>\n",
       "      <td>1544968800</td>\n",
       "      <td>1545048000</td>\n",
       "      <td>1544968800</td>\n",
       "      <td>1545044400</td>\n",
       "      <td>1544962084</td>\n",
       "      <td>1544994864</td>\n",
       "      <td>1544979600</td>\n",
       "      <td>1545012000</td>\n",
       "      <td>1544968800</td>\n",
       "      <td>1545012000</td>\n",
       "      <td>1544958000</td>\n",
       "    </tr>\n",
       "    <tr>\n",
       "      <th>1</th>\n",
       "      <td>11.0</td>\n",
       "      <td>1.543284e+09</td>\n",
       "      <td>2018-11-27 02:00:23</td>\n",
       "      <td>1543291200</td>\n",
       "      <td>1543251600</td>\n",
       "      <td>1543298400</td>\n",
       "      <td>1543251600</td>\n",
       "      <td>1543291200</td>\n",
       "      <td>1543232969</td>\n",
       "      <td>1543266992</td>\n",
       "      <td>1543251600</td>\n",
       "      <td>1543233600</td>\n",
       "      <td>1543251600</td>\n",
       "      <td>1543291200</td>\n",
       "      <td>1543251600</td>\n",
       "    </tr>\n",
       "  </tbody>\n",
       "</table>\n",
       "</div>"
      ],
      "text/plain": [
       "   price     timestamp             datetime  windGustTime  \\\n",
       "0    5.0  1.544953e+09  2018-12-16 09:30:07    1545015600   \n",
       "1   11.0  1.543284e+09  2018-11-27 02:00:23    1543291200   \n",
       "\n",
       "   temperatureHighTime  temperatureLowTime  apparentTemperatureHighTime  \\\n",
       "0           1544968800          1545048000                   1544968800   \n",
       "1           1543251600          1543298400                   1543251600   \n",
       "\n",
       "   apparentTemperatureLowTime  sunriseTime  sunsetTime  uvIndexTime  \\\n",
       "0                  1545044400   1544962084  1544994864   1544979600   \n",
       "1                  1543291200   1543232969  1543266992   1543251600   \n",
       "\n",
       "   temperatureMinTime  temperatureMaxTime  apparentTemperatureMinTime  \\\n",
       "0          1545012000          1544968800                  1545012000   \n",
       "1          1543233600          1543251600                  1543291200   \n",
       "\n",
       "   apparentTemperatureMaxTime  \n",
       "0                  1544958000  \n",
       "1                  1543251600  "
      ]
     },
     "execution_count": 7,
     "metadata": {},
     "output_type": "execute_result"
    }
   ],
   "source": [
    "df_1 = df[['price','timestamp','datetime','windGustTime',\n",
    "                    'temperatureHighTime','temperatureLowTime',\n",
    "                    'apparentTemperatureHighTime','apparentTemperatureLowTime',\n",
    "                    'sunriseTime','sunsetTime','uvIndexTime','temperatureMinTime', \n",
    "                    'temperatureMaxTime','apparentTemperatureMinTime',\n",
    "                    'apparentTemperatureMaxTime']]\n",
    "print(df.shape)\n",
    "df_1.head(2)"
   ]
  },
  {
   "cell_type": "code",
   "execution_count": 8,
   "metadata": {},
   "outputs": [
    {
     "data": {
      "text/plain": [
       "<AxesSubplot:>"
      ]
     },
     "execution_count": 8,
     "metadata": {},
     "output_type": "execute_result"
    },
    {
     "data": {
      "image/png": "[encoded data removed]",
      "text/plain": [
       "<Figure size 720x720 with 2 Axes>"
      ]
     },
     "metadata": {
      "needs_background": "light"
     },
     "output_type": "display_data"
    }
   ],
   "source": [
    "plt.figure(figsize=(10,10))\n",
    "sb.heatmap(df_1.corr(),annot=True, mask=np.triu(df_1.corr()))"
   ]
  },
  {
   "cell_type": "markdown",
   "metadata": {},
   "source": [
    "- terdapat fitur - fitur yang tidak terikat dengan penentuan harga dan terdapat fitur yang memiliki fungsi yang sama\n",
    "- fitur - fitur:\n",
    "    - id : merupakan identitas dari pemesan yang tidak memiliki keterikatan dengan harga\n",
    "    - timestamp dan time lainnya sudah diwakili dengan data hour, day, month. Selain itu data tersebut sama satu dan lainnya. dinuktikan dengan heatmap dimana korelasi time satu sama lain = 1 atau data sangat mirip, serta memiliki korelasi yang mendekati 0 atau tidak terikat dengan price\n",
    "    - timezone : hanya memiliki 1 data untuk semua pemesanan\n",
    "    - latitude dan longitude : diwakili dengan source dan destination\n",
    "    - long summary : data berupa teks panjang yang sulit untuk dianalisis\n",
    "- fitur - fitur ini dapat dihapus dari dataset karena tidak memiliki keterikatan atau sudah diwakili oleh fitur lainnya"
   ]
  },
  {
   "cell_type": "code",
   "execution_count": 9,
   "metadata": {},
   "outputs": [
    {
     "name": "stdout",
     "output_type": "stream",
     "text": [
      "(693071, 38)\n"
     ]
    },
    {
     "data": {
      "text/html": [
       "<div>\n",
       "<style scoped>\n",
       "    .dataframe tbody tr th:only-of-type {\n",
       "        vertical-align: middle;\n",
       "    }\n",
       "\n",
       "    .dataframe tbody tr th {\n",
       "        vertical-align: top;\n",
       "    }\n",
       "\n",
       "    .dataframe thead th {\n",
       "        text-align: right;\n",
       "    }\n",
       "</style>\n",
       "<table border=\"1\" class=\"dataframe\">\n",
       "  <thead>\n",
       "    <tr style=\"text-align: right;\">\n",
       "      <th></th>\n",
       "      <th>hour</th>\n",
       "      <th>day</th>\n",
       "      <th>month</th>\n",
       "      <th>source</th>\n",
       "      <th>destination</th>\n",
       "      <th>cab_type</th>\n",
       "      <th>product_id</th>\n",
       "      <th>name</th>\n",
       "      <th>price</th>\n",
       "      <th>distance</th>\n",
       "      <th>...</th>\n",
       "      <th>cloudCover</th>\n",
       "      <th>uvIndex</th>\n",
       "      <th>visibility.1</th>\n",
       "      <th>ozone</th>\n",
       "      <th>moonPhase</th>\n",
       "      <th>precipIntensityMax</th>\n",
       "      <th>temperatureMin</th>\n",
       "      <th>temperatureMax</th>\n",
       "      <th>apparentTemperatureMin</th>\n",
       "      <th>apparentTemperatureMax</th>\n",
       "    </tr>\n",
       "  </thead>\n",
       "  <tbody>\n",
       "    <tr>\n",
       "      <th>0</th>\n",
       "      <td>9</td>\n",
       "      <td>16</td>\n",
       "      <td>12</td>\n",
       "      <td>Haymarket Square</td>\n",
       "      <td>North Station</td>\n",
       "      <td>Lyft</td>\n",
       "      <td>lyft_line</td>\n",
       "      <td>Shared</td>\n",
       "      <td>5.0</td>\n",
       "      <td>0.44</td>\n",
       "      <td>...</td>\n",
       "      <td>0.72</td>\n",
       "      <td>0</td>\n",
       "      <td>10.000</td>\n",
       "      <td>303.8</td>\n",
       "      <td>0.30</td>\n",
       "      <td>0.1276</td>\n",
       "      <td>39.89</td>\n",
       "      <td>43.68</td>\n",
       "      <td>33.73</td>\n",
       "      <td>38.07</td>\n",
       "    </tr>\n",
       "    <tr>\n",
       "      <th>1</th>\n",
       "      <td>2</td>\n",
       "      <td>27</td>\n",
       "      <td>11</td>\n",
       "      <td>Haymarket Square</td>\n",
       "      <td>North Station</td>\n",
       "      <td>Lyft</td>\n",
       "      <td>lyft_premier</td>\n",
       "      <td>Lux</td>\n",
       "      <td>11.0</td>\n",
       "      <td>0.44</td>\n",
       "      <td>...</td>\n",
       "      <td>1.00</td>\n",
       "      <td>0</td>\n",
       "      <td>4.786</td>\n",
       "      <td>291.1</td>\n",
       "      <td>0.64</td>\n",
       "      <td>0.1300</td>\n",
       "      <td>40.49</td>\n",
       "      <td>47.30</td>\n",
       "      <td>36.20</td>\n",
       "      <td>43.92</td>\n",
       "    </tr>\n",
       "  </tbody>\n",
       "</table>\n",
       "<p>2 rows × 38 columns</p>\n",
       "</div>"
      ],
      "text/plain": [
       "   hour  day  month            source    destination cab_type    product_id  \\\n",
       "0     9   16     12  Haymarket Square  North Station     Lyft     lyft_line   \n",
       "1     2   27     11  Haymarket Square  North Station     Lyft  lyft_premier   \n",
       "\n",
       "     name  price  distance  ...  cloudCover  uvIndex  visibility.1  ozone  \\\n",
       "0  Shared    5.0      0.44  ...        0.72        0        10.000  303.8   \n",
       "1     Lux   11.0      0.44  ...        1.00        0         4.786  291.1   \n",
       "\n",
       "   moonPhase  precipIntensityMax  temperatureMin  temperatureMax  \\\n",
       "0       0.30              0.1276           39.89           43.68   \n",
       "1       0.64              0.1300           40.49           47.30   \n",
       "\n",
       "   apparentTemperatureMin  apparentTemperatureMax  \n",
       "0                   33.73                   38.07  \n",
       "1                   36.20                   43.92  \n",
       "\n",
       "[2 rows x 38 columns]"
      ]
     },
     "execution_count": 9,
     "metadata": {},
     "output_type": "execute_result"
    }
   ],
   "source": [
    "df=df.drop(['id','timestamp','datetime','windGustTime',\n",
    "                    'temperatureHighTime','temperatureLowTime',\n",
    "                    'apparentTemperatureHighTime','apparentTemperatureLowTime',\n",
    "                    'sunriseTime','sunsetTime','uvIndexTime','temperatureMinTime', \n",
    "                    'temperatureMaxTime','apparentTemperatureMinTime',\n",
    "                    'apparentTemperatureMaxTime','timezone','latitude', \n",
    "                    'longitude','long_summary'], axis=1)\n",
    "print(df.shape)\n",
    "df.head(2)"
   ]
  },
  {
   "cell_type": "markdown",
   "metadata": {},
   "source": [
    "# Eksplorasi Data"
   ]
  },
  {
   "cell_type": "markdown",
   "metadata": {},
   "source": [
    "## pengaruh temperatur"
   ]
  },
  {
   "cell_type": "markdown",
   "metadata": {},
   "source": [
    "- pada fitur ini terdapat beberapa kolom yang menyajikan temperatur\n",
    "- apakah fitur temperatur akan mempengaruhi nilai harga dengan mengecek korelasinya dengan heatmap"
   ]
  },
  {
   "cell_type": "code",
   "execution_count": 10,
   "metadata": {},
   "outputs": [
    {
     "name": "stdout",
     "output_type": "stream",
     "text": [
      "(693071, 11)\n"
     ]
    },
    {
     "data": {
      "text/html": [
       "<div>\n",
       "<style scoped>\n",
       "    .dataframe tbody tr th:only-of-type {\n",
       "        vertical-align: middle;\n",
       "    }\n",
       "\n",
       "    .dataframe tbody tr th {\n",
       "        vertical-align: top;\n",
       "    }\n",
       "\n",
       "    .dataframe thead th {\n",
       "        text-align: right;\n",
       "    }\n",
       "</style>\n",
       "<table border=\"1\" class=\"dataframe\">\n",
       "  <thead>\n",
       "    <tr style=\"text-align: right;\">\n",
       "      <th></th>\n",
       "      <th>price</th>\n",
       "      <th>temperature</th>\n",
       "      <th>apparentTemperature</th>\n",
       "      <th>temperatureHigh</th>\n",
       "      <th>temperatureLow</th>\n",
       "      <th>apparentTemperatureHigh</th>\n",
       "      <th>apparentTemperatureLow</th>\n",
       "      <th>temperatureMin</th>\n",
       "      <th>temperatureMax</th>\n",
       "      <th>apparentTemperatureMin</th>\n",
       "      <th>apparentTemperatureMax</th>\n",
       "    </tr>\n",
       "  </thead>\n",
       "  <tbody>\n",
       "    <tr>\n",
       "      <th>0</th>\n",
       "      <td>5.0</td>\n",
       "      <td>42.34</td>\n",
       "      <td>37.12</td>\n",
       "      <td>43.68</td>\n",
       "      <td>34.19</td>\n",
       "      <td>37.95</td>\n",
       "      <td>27.39</td>\n",
       "      <td>39.89</td>\n",
       "      <td>43.68</td>\n",
       "      <td>33.73</td>\n",
       "      <td>38.07</td>\n",
       "    </tr>\n",
       "    <tr>\n",
       "      <th>1</th>\n",
       "      <td>11.0</td>\n",
       "      <td>43.58</td>\n",
       "      <td>37.35</td>\n",
       "      <td>47.30</td>\n",
       "      <td>42.10</td>\n",
       "      <td>43.92</td>\n",
       "      <td>36.20</td>\n",
       "      <td>40.49</td>\n",
       "      <td>47.30</td>\n",
       "      <td>36.20</td>\n",
       "      <td>43.92</td>\n",
       "    </tr>\n",
       "  </tbody>\n",
       "</table>\n",
       "</div>"
      ],
      "text/plain": [
       "   price  temperature  apparentTemperature  temperatureHigh  temperatureLow  \\\n",
       "0    5.0        42.34                37.12            43.68           34.19   \n",
       "1   11.0        43.58                37.35            47.30           42.10   \n",
       "\n",
       "   apparentTemperatureHigh  apparentTemperatureLow  temperatureMin  \\\n",
       "0                    37.95                   27.39           39.89   \n",
       "1                    43.92                   36.20           40.49   \n",
       "\n",
       "   temperatureMax  apparentTemperatureMin  apparentTemperatureMax  \n",
       "0           43.68                   33.73                   38.07  \n",
       "1           47.30                   36.20                   43.92  "
      ]
     },
     "execution_count": 10,
     "metadata": {},
     "output_type": "execute_result"
    }
   ],
   "source": [
    "df_2 = df[['price','temperature','apparentTemperature','temperatureHigh', \n",
    "                'temperatureLow','apparentTemperatureHigh','apparentTemperatureLow', \n",
    "                'temperatureMin','temperatureMax','apparentTemperatureMin', \n",
    "                'apparentTemperatureMax']]\n",
    "print(df_2.shape)\n",
    "df_2.head(2)"
   ]
  },
  {
   "cell_type": "code",
   "execution_count": 11,
   "metadata": {},
   "outputs": [
    {
     "data": {
      "text/plain": [
       "<AxesSubplot:>"
      ]
     },
     "execution_count": 11,
     "metadata": {},
     "output_type": "execute_result"
    },
    {
     "data": {
      "image/png": "[encoded data removed]",
      "text/plain": [
       "<Figure size 720x720 with 2 Axes>"
      ]
     },
     "metadata": {
      "needs_background": "light"
     },
     "output_type": "display_data"
    }
   ],
   "source": [
    "plt.figure(figsize=(10,10))\n",
    "sb.heatmap(df_2.corr(),annot=True, mask=np.triu(df_2.corr()))"
   ]
  },
  {
   "cell_type": "markdown",
   "metadata": {},
   "source": [
    "- heatmap menunjukan korelasi yang mendekati 0 untuk semua fitur temperatur\n",
    "- dengan demikian kita dapat simpulkan temperatur tidak mempengaruhi price\n",
    "- maka fitur temperatur dapat di drop dari dataset"
   ]
  },
  {
   "cell_type": "code",
   "execution_count": 12,
   "metadata": {},
   "outputs": [
    {
     "name": "stdout",
     "output_type": "stream",
     "text": [
      "(693071, 28)\n"
     ]
    },
    {
     "data": {
      "text/html": [
       "<div>\n",
       "<style scoped>\n",
       "    .dataframe tbody tr th:only-of-type {\n",
       "        vertical-align: middle;\n",
       "    }\n",
       "\n",
       "    .dataframe tbody tr th {\n",
       "        vertical-align: top;\n",
       "    }\n",
       "\n",
       "    .dataframe thead th {\n",
       "        text-align: right;\n",
       "    }\n",
       "</style>\n",
       "<table border=\"1\" class=\"dataframe\">\n",
       "  <thead>\n",
       "    <tr style=\"text-align: right;\">\n",
       "      <th></th>\n",
       "      <th>hour</th>\n",
       "      <th>day</th>\n",
       "      <th>month</th>\n",
       "      <th>source</th>\n",
       "      <th>destination</th>\n",
       "      <th>cab_type</th>\n",
       "      <th>product_id</th>\n",
       "      <th>name</th>\n",
       "      <th>price</th>\n",
       "      <th>distance</th>\n",
       "      <th>...</th>\n",
       "      <th>icon</th>\n",
       "      <th>dewPoint</th>\n",
       "      <th>pressure</th>\n",
       "      <th>windBearing</th>\n",
       "      <th>cloudCover</th>\n",
       "      <th>uvIndex</th>\n",
       "      <th>visibility.1</th>\n",
       "      <th>ozone</th>\n",
       "      <th>moonPhase</th>\n",
       "      <th>precipIntensityMax</th>\n",
       "    </tr>\n",
       "  </thead>\n",
       "  <tbody>\n",
       "    <tr>\n",
       "      <th>0</th>\n",
       "      <td>9</td>\n",
       "      <td>16</td>\n",
       "      <td>12</td>\n",
       "      <td>Haymarket Square</td>\n",
       "      <td>North Station</td>\n",
       "      <td>Lyft</td>\n",
       "      <td>lyft_line</td>\n",
       "      <td>Shared</td>\n",
       "      <td>5.0</td>\n",
       "      <td>0.44</td>\n",
       "      <td>...</td>\n",
       "      <td>partly-cloudy-night</td>\n",
       "      <td>32.70</td>\n",
       "      <td>1021.98</td>\n",
       "      <td>57</td>\n",
       "      <td>0.72</td>\n",
       "      <td>0</td>\n",
       "      <td>10.000</td>\n",
       "      <td>303.8</td>\n",
       "      <td>0.30</td>\n",
       "      <td>0.1276</td>\n",
       "    </tr>\n",
       "    <tr>\n",
       "      <th>1</th>\n",
       "      <td>2</td>\n",
       "      <td>27</td>\n",
       "      <td>11</td>\n",
       "      <td>Haymarket Square</td>\n",
       "      <td>North Station</td>\n",
       "      <td>Lyft</td>\n",
       "      <td>lyft_premier</td>\n",
       "      <td>Lux</td>\n",
       "      <td>11.0</td>\n",
       "      <td>0.44</td>\n",
       "      <td>...</td>\n",
       "      <td>rain</td>\n",
       "      <td>41.83</td>\n",
       "      <td>1003.97</td>\n",
       "      <td>90</td>\n",
       "      <td>1.00</td>\n",
       "      <td>0</td>\n",
       "      <td>4.786</td>\n",
       "      <td>291.1</td>\n",
       "      <td>0.64</td>\n",
       "      <td>0.1300</td>\n",
       "    </tr>\n",
       "  </tbody>\n",
       "</table>\n",
       "<p>2 rows × 28 columns</p>\n",
       "</div>"
      ],
      "text/plain": [
       "   hour  day  month            source    destination cab_type    product_id  \\\n",
       "0     9   16     12  Haymarket Square  North Station     Lyft     lyft_line   \n",
       "1     2   27     11  Haymarket Square  North Station     Lyft  lyft_premier   \n",
       "\n",
       "     name  price  distance  ...                   icon dewPoint  pressure  \\\n",
       "0  Shared    5.0      0.44  ...   partly-cloudy-night     32.70   1021.98   \n",
       "1     Lux   11.0      0.44  ...                  rain     41.83   1003.97   \n",
       "\n",
       "   windBearing  cloudCover  uvIndex  visibility.1  ozone moonPhase  \\\n",
       "0           57        0.72        0        10.000  303.8      0.30   \n",
       "1           90        1.00        0         4.786  291.1      0.64   \n",
       "\n",
       "   precipIntensityMax  \n",
       "0              0.1276  \n",
       "1              0.1300  \n",
       "\n",
       "[2 rows x 28 columns]"
      ]
     },
     "execution_count": 12,
     "metadata": {},
     "output_type": "execute_result"
    }
   ],
   "source": [
    "df = df.drop(['temperature','apparentTemperature','temperatureHigh', \n",
    "                'temperatureLow','apparentTemperatureHigh','apparentTemperatureLow', \n",
    "                'temperatureMin','temperatureMax','apparentTemperatureMin', \n",
    "                'apparentTemperatureMax'],axis=1)\n",
    "print(df.shape)\n",
    "df.head(2)"
   ]
  },
  {
   "cell_type": "markdown",
   "metadata": {},
   "source": [
    "## pengaruh cuaca"
   ]
  },
  {
   "cell_type": "markdown",
   "metadata": {},
   "source": [
    "- terdapat  kolom yang menyajikan cuaca\n",
    "- apakah fitur cuaca akan mempengaruhi nilai harga dengan mengecek korelasinya dengan heatmap"
   ]
  },
  {
   "cell_type": "code",
   "execution_count": 13,
   "metadata": {},
   "outputs": [
    {
     "name": "stdout",
     "output_type": "stream",
     "text": [
      "(693071, 17)\n"
     ]
    },
    {
     "data": {
      "text/html": [
       "<div>\n",
       "<style scoped>\n",
       "    .dataframe tbody tr th:only-of-type {\n",
       "        vertical-align: middle;\n",
       "    }\n",
       "\n",
       "    .dataframe tbody tr th {\n",
       "        vertical-align: top;\n",
       "    }\n",
       "\n",
       "    .dataframe thead th {\n",
       "        text-align: right;\n",
       "    }\n",
       "</style>\n",
       "<table border=\"1\" class=\"dataframe\">\n",
       "  <thead>\n",
       "    <tr style=\"text-align: right;\">\n",
       "      <th></th>\n",
       "      <th>price</th>\n",
       "      <th>precipIntensity</th>\n",
       "      <th>precipProbability</th>\n",
       "      <th>humidity</th>\n",
       "      <th>humidity</th>\n",
       "      <th>windSpeed</th>\n",
       "      <th>windGust</th>\n",
       "      <th>visibility</th>\n",
       "      <th>dewPoint</th>\n",
       "      <th>pressure</th>\n",
       "      <th>windBearing</th>\n",
       "      <th>cloudCover</th>\n",
       "      <th>uvIndex</th>\n",
       "      <th>visibility.1</th>\n",
       "      <th>ozone</th>\n",
       "      <th>moonPhase</th>\n",
       "      <th>precipIntensityMax</th>\n",
       "    </tr>\n",
       "  </thead>\n",
       "  <tbody>\n",
       "    <tr>\n",
       "      <th>0</th>\n",
       "      <td>5.0</td>\n",
       "      <td>0.0000</td>\n",
       "      <td>0.0</td>\n",
       "      <td>0.68</td>\n",
       "      <td>0.68</td>\n",
       "      <td>8.66</td>\n",
       "      <td>9.17</td>\n",
       "      <td>10.000</td>\n",
       "      <td>32.70</td>\n",
       "      <td>1021.98</td>\n",
       "      <td>57</td>\n",
       "      <td>0.72</td>\n",
       "      <td>0</td>\n",
       "      <td>10.000</td>\n",
       "      <td>303.8</td>\n",
       "      <td>0.30</td>\n",
       "      <td>0.1276</td>\n",
       "    </tr>\n",
       "    <tr>\n",
       "      <th>1</th>\n",
       "      <td>11.0</td>\n",
       "      <td>0.1299</td>\n",
       "      <td>1.0</td>\n",
       "      <td>0.94</td>\n",
       "      <td>0.94</td>\n",
       "      <td>11.98</td>\n",
       "      <td>11.98</td>\n",
       "      <td>4.786</td>\n",
       "      <td>41.83</td>\n",
       "      <td>1003.97</td>\n",
       "      <td>90</td>\n",
       "      <td>1.00</td>\n",
       "      <td>0</td>\n",
       "      <td>4.786</td>\n",
       "      <td>291.1</td>\n",
       "      <td>0.64</td>\n",
       "      <td>0.1300</td>\n",
       "    </tr>\n",
       "  </tbody>\n",
       "</table>\n",
       "</div>"
      ],
      "text/plain": [
       "   price  precipIntensity  precipProbability  humidity  humidity  windSpeed  \\\n",
       "0    5.0           0.0000                0.0      0.68      0.68       8.66   \n",
       "1   11.0           0.1299                1.0      0.94      0.94      11.98   \n",
       "\n",
       "   windGust  visibility  dewPoint  pressure  windBearing  cloudCover  uvIndex  \\\n",
       "0      9.17      10.000     32.70   1021.98           57        0.72        0   \n",
       "1     11.98       4.786     41.83   1003.97           90        1.00        0   \n",
       "\n",
       "   visibility.1  ozone  moonPhase  precipIntensityMax  \n",
       "0        10.000  303.8       0.30              0.1276  \n",
       "1         4.786  291.1       0.64              0.1300  "
      ]
     },
     "execution_count": 13,
     "metadata": {},
     "output_type": "execute_result"
    }
   ],
   "source": [
    "df_3 = df[['price','precipIntensity','precipProbability','humidity',\n",
    "                 'humidity','windSpeed','windGust','visibility','dewPoint',\n",
    "                 'pressure','windBearing','cloudCover','uvIndex','visibility.1',\n",
    "                 'ozone','moonPhase','precipIntensityMax']]\n",
    "print(df_3.shape)\n",
    "df_3.head(2)"
   ]
  },
  {
   "cell_type": "code",
   "execution_count": 14,
   "metadata": {},
   "outputs": [
    {
     "data": {
      "text/plain": [
       "<AxesSubplot:>"
      ]
     },
     "execution_count": 14,
     "metadata": {},
     "output_type": "execute_result"
    },
    {
     "data": {
      "image/png": "[encoded data removed]",
      "text/plain": [
       "<Figure size 720x720 with 2 Axes>"
      ]
     },
     "metadata": {
      "needs_background": "light"
     },
     "output_type": "display_data"
    }
   ],
   "source": [
    "plt.figure(figsize=(10,10))\n",
    "sb.heatmap(df_2.corr(),annot=True, mask=np.triu(df_2.corr()))"
   ]
  },
  {
   "cell_type": "markdown",
   "metadata": {},
   "source": [
    "- heatmap menunjukan korelasi yang mendekati 0 untuk semua fitur cuaca terhadap price\n",
    "- dengan demikian kita dapat simpulkan cuaca tidak mempengaruhi price\n",
    "- maka fitur cuaca dapat di drop dari dataset"
   ]
  },
  {
   "cell_type": "code",
   "execution_count": 15,
   "metadata": {},
   "outputs": [
    {
     "name": "stdout",
     "output_type": "stream",
     "text": [
      "(693071, 13)\n"
     ]
    },
    {
     "data": {
      "text/html": [
       "<div>\n",
       "<style scoped>\n",
       "    .dataframe tbody tr th:only-of-type {\n",
       "        vertical-align: middle;\n",
       "    }\n",
       "\n",
       "    .dataframe tbody tr th {\n",
       "        vertical-align: top;\n",
       "    }\n",
       "\n",
       "    .dataframe thead th {\n",
       "        text-align: right;\n",
       "    }\n",
       "</style>\n",
       "<table border=\"1\" class=\"dataframe\">\n",
       "  <thead>\n",
       "    <tr style=\"text-align: right;\">\n",
       "      <th></th>\n",
       "      <th>hour</th>\n",
       "      <th>day</th>\n",
       "      <th>month</th>\n",
       "      <th>source</th>\n",
       "      <th>destination</th>\n",
       "      <th>cab_type</th>\n",
       "      <th>product_id</th>\n",
       "      <th>name</th>\n",
       "      <th>price</th>\n",
       "      <th>distance</th>\n",
       "      <th>surge_multiplier</th>\n",
       "      <th>short_summary</th>\n",
       "      <th>icon</th>\n",
       "    </tr>\n",
       "  </thead>\n",
       "  <tbody>\n",
       "    <tr>\n",
       "      <th>0</th>\n",
       "      <td>9</td>\n",
       "      <td>16</td>\n",
       "      <td>12</td>\n",
       "      <td>Haymarket Square</td>\n",
       "      <td>North Station</td>\n",
       "      <td>Lyft</td>\n",
       "      <td>lyft_line</td>\n",
       "      <td>Shared</td>\n",
       "      <td>5.0</td>\n",
       "      <td>0.44</td>\n",
       "      <td>1.0</td>\n",
       "      <td>Mostly Cloudy</td>\n",
       "      <td>partly-cloudy-night</td>\n",
       "    </tr>\n",
       "    <tr>\n",
       "      <th>1</th>\n",
       "      <td>2</td>\n",
       "      <td>27</td>\n",
       "      <td>11</td>\n",
       "      <td>Haymarket Square</td>\n",
       "      <td>North Station</td>\n",
       "      <td>Lyft</td>\n",
       "      <td>lyft_premier</td>\n",
       "      <td>Lux</td>\n",
       "      <td>11.0</td>\n",
       "      <td>0.44</td>\n",
       "      <td>1.0</td>\n",
       "      <td>Rain</td>\n",
       "      <td>rain</td>\n",
       "    </tr>\n",
       "  </tbody>\n",
       "</table>\n",
       "</div>"
      ],
      "text/plain": [
       "   hour  day  month            source    destination cab_type    product_id  \\\n",
       "0     9   16     12  Haymarket Square  North Station     Lyft     lyft_line   \n",
       "1     2   27     11  Haymarket Square  North Station     Lyft  lyft_premier   \n",
       "\n",
       "     name  price  distance  surge_multiplier    short_summary  \\\n",
       "0  Shared    5.0      0.44               1.0   Mostly Cloudy    \n",
       "1     Lux   11.0      0.44               1.0            Rain    \n",
       "\n",
       "                    icon  \n",
       "0   partly-cloudy-night   \n",
       "1                  rain   "
      ]
     },
     "execution_count": 15,
     "metadata": {},
     "output_type": "execute_result"
    }
   ],
   "source": [
    "df = df.drop(['precipIntensity','precipProbability','humidity',\n",
    "                 'humidity','windSpeed','windGust','visibility','dewPoint',\n",
    "                 'pressure','windBearing','cloudCover','uvIndex','visibility.1',\n",
    "                 'ozone','moonPhase','precipIntensityMax'],axis=1)\n",
    "print(df.shape)\n",
    "df.head(2)"
   ]
  },
  {
   "cell_type": "markdown",
   "metadata": {},
   "source": [
    "## analisis data kategori"
   ]
  },
  {
   "cell_type": "code",
   "execution_count": 16,
   "metadata": {},
   "outputs": [
    {
     "name": "stdout",
     "output_type": "stream",
     "text": [
      "(693071, 13)\n"
     ]
    },
    {
     "data": {
      "text/html": [
       "<div>\n",
       "<style scoped>\n",
       "    .dataframe tbody tr th:only-of-type {\n",
       "        vertical-align: middle;\n",
       "    }\n",
       "\n",
       "    .dataframe tbody tr th {\n",
       "        vertical-align: top;\n",
       "    }\n",
       "\n",
       "    .dataframe thead th {\n",
       "        text-align: right;\n",
       "    }\n",
       "</style>\n",
       "<table border=\"1\" class=\"dataframe\">\n",
       "  <thead>\n",
       "    <tr style=\"text-align: right;\">\n",
       "      <th></th>\n",
       "      <th>hour</th>\n",
       "      <th>day</th>\n",
       "      <th>month</th>\n",
       "      <th>source</th>\n",
       "      <th>destination</th>\n",
       "      <th>cab_type</th>\n",
       "      <th>product_id</th>\n",
       "      <th>name</th>\n",
       "      <th>price</th>\n",
       "      <th>distance</th>\n",
       "      <th>surge_multiplier</th>\n",
       "      <th>short_summary</th>\n",
       "      <th>icon</th>\n",
       "    </tr>\n",
       "  </thead>\n",
       "  <tbody>\n",
       "    <tr>\n",
       "      <th>0</th>\n",
       "      <td>9</td>\n",
       "      <td>16</td>\n",
       "      <td>12</td>\n",
       "      <td>Haymarket Square</td>\n",
       "      <td>North Station</td>\n",
       "      <td>Lyft</td>\n",
       "      <td>lyft_line</td>\n",
       "      <td>Shared</td>\n",
       "      <td>5.0</td>\n",
       "      <td>0.44</td>\n",
       "      <td>1.0</td>\n",
       "      <td>Mostly Cloudy</td>\n",
       "      <td>partly-cloudy-night</td>\n",
       "    </tr>\n",
       "    <tr>\n",
       "      <th>1</th>\n",
       "      <td>2</td>\n",
       "      <td>27</td>\n",
       "      <td>11</td>\n",
       "      <td>Haymarket Square</td>\n",
       "      <td>North Station</td>\n",
       "      <td>Lyft</td>\n",
       "      <td>lyft_premier</td>\n",
       "      <td>Lux</td>\n",
       "      <td>11.0</td>\n",
       "      <td>0.44</td>\n",
       "      <td>1.0</td>\n",
       "      <td>Rain</td>\n",
       "      <td>rain</td>\n",
       "    </tr>\n",
       "  </tbody>\n",
       "</table>\n",
       "</div>"
      ],
      "text/plain": [
       "   hour  day  month            source    destination cab_type    product_id  \\\n",
       "0     9   16     12  Haymarket Square  North Station     Lyft     lyft_line   \n",
       "1     2   27     11  Haymarket Square  North Station     Lyft  lyft_premier   \n",
       "\n",
       "     name  price  distance  surge_multiplier    short_summary  \\\n",
       "0  Shared    5.0      0.44               1.0   Mostly Cloudy    \n",
       "1     Lux   11.0      0.44               1.0            Rain    \n",
       "\n",
       "                    icon  \n",
       "0   partly-cloudy-night   \n",
       "1                  rain   "
      ]
     },
     "execution_count": 16,
     "metadata": {},
     "output_type": "execute_result"
    }
   ],
   "source": [
    "cat_feat = df.select_dtypes(include=['object','category']).columns.tolist()\n",
    "df_cat = df[cat_feat]\n",
    "print(df.shape)\n",
    "df.head(2)"
   ]
  },
  {
   "cell_type": "code",
   "execution_count": 17,
   "metadata": {},
   "outputs": [
    {
     "name": "stdout",
     "output_type": "stream",
     "text": [
      "source : ['Haymarket Square' 'Back Bay' 'North End' 'North Station' 'Beacon Hill'\n",
      " 'Boston University' 'Fenway' 'South Station' 'Theatre District'\n",
      " 'West End' 'Financial District' 'Northeastern University']\n",
      "\n",
      "destination : ['North Station' 'Northeastern University' 'West End' 'Haymarket Square'\n",
      " 'South Station' 'Fenway' 'Theatre District' 'Beacon Hill' 'Back Bay'\n",
      " 'North End' 'Financial District' 'Boston University']\n",
      "\n",
      "cab_type : ['Lyft' 'Uber']\n",
      "\n",
      "product_id : ['lyft_line' 'lyft_premier' 'lyft' 'lyft_luxsuv' 'lyft_plus' 'lyft_lux'\n",
      " '6f72dfc5-27f1-42e8-84db-ccc7a75f6969'\n",
      " '6c84fd89-3f11-4782-9b50-97c468b19529'\n",
      " '55c66225-fbe7-4fd5-9072-eab1ece5e23e'\n",
      " '9a0e7b09-b92b-4c41-9779-2ad22b4d779d'\n",
      " '6d318bcc-22a3-4af6-bddd-b409bfce1546'\n",
      " '997acbb5-e102-41e1-b155-9df7de0a73f2'\n",
      " '8cf7e821-f0d3-49c6-8eba-e679c0ebcf6a']\n",
      "\n",
      "name : ['Shared' 'Lux' 'Lyft' 'Lux Black XL' 'Lyft XL' 'Lux Black' 'UberXL'\n",
      " 'Black' 'UberX' 'WAV' 'Black SUV' 'UberPool' 'Taxi']\n",
      "\n",
      "short_summary : [' Mostly Cloudy ' ' Rain ' ' Clear ' ' Partly Cloudy ' ' Overcast '\n",
      " ' Light Rain ' ' Foggy ' ' Possible Drizzle ' ' Drizzle ']\n",
      "\n",
      "icon : [' partly-cloudy-night ' ' rain ' ' clear-night ' ' cloudy ' ' fog '\n",
      " ' clear-day ' ' partly-cloudy-day ']\n",
      "\n"
     ]
    }
   ],
   "source": [
    "for col in df_cat:\n",
    "    print(f'{col} : {df_cat[col].unique()}')\n",
    "    print()"
   ]
  },
  {
   "cell_type": "markdown",
   "metadata": {},
   "source": [
    "- fitur product id memiliki kategori dengan nama yang random dan menjadi tidak bisa dikategorikan atau didefinisikan\n",
    "- fitur ini merupakan data yang dapat di drop dari dataset"
   ]
  },
  {
   "cell_type": "code",
   "execution_count": 18,
   "metadata": {},
   "outputs": [
    {
     "name": "stdout",
     "output_type": "stream",
     "text": [
      "(693071, 12)\n"
     ]
    },
    {
     "data": {
      "text/html": [
       "<div>\n",
       "<style scoped>\n",
       "    .dataframe tbody tr th:only-of-type {\n",
       "        vertical-align: middle;\n",
       "    }\n",
       "\n",
       "    .dataframe tbody tr th {\n",
       "        vertical-align: top;\n",
       "    }\n",
       "\n",
       "    .dataframe thead th {\n",
       "        text-align: right;\n",
       "    }\n",
       "</style>\n",
       "<table border=\"1\" class=\"dataframe\">\n",
       "  <thead>\n",
       "    <tr style=\"text-align: right;\">\n",
       "      <th></th>\n",
       "      <th>hour</th>\n",
       "      <th>day</th>\n",
       "      <th>month</th>\n",
       "      <th>source</th>\n",
       "      <th>destination</th>\n",
       "      <th>cab_type</th>\n",
       "      <th>name</th>\n",
       "      <th>price</th>\n",
       "      <th>distance</th>\n",
       "      <th>surge_multiplier</th>\n",
       "      <th>short_summary</th>\n",
       "      <th>icon</th>\n",
       "    </tr>\n",
       "  </thead>\n",
       "  <tbody>\n",
       "    <tr>\n",
       "      <th>0</th>\n",
       "      <td>9</td>\n",
       "      <td>16</td>\n",
       "      <td>12</td>\n",
       "      <td>Haymarket Square</td>\n",
       "      <td>North Station</td>\n",
       "      <td>Lyft</td>\n",
       "      <td>Shared</td>\n",
       "      <td>5.0</td>\n",
       "      <td>0.44</td>\n",
       "      <td>1.0</td>\n",
       "      <td>Mostly Cloudy</td>\n",
       "      <td>partly-cloudy-night</td>\n",
       "    </tr>\n",
       "    <tr>\n",
       "      <th>1</th>\n",
       "      <td>2</td>\n",
       "      <td>27</td>\n",
       "      <td>11</td>\n",
       "      <td>Haymarket Square</td>\n",
       "      <td>North Station</td>\n",
       "      <td>Lyft</td>\n",
       "      <td>Lux</td>\n",
       "      <td>11.0</td>\n",
       "      <td>0.44</td>\n",
       "      <td>1.0</td>\n",
       "      <td>Rain</td>\n",
       "      <td>rain</td>\n",
       "    </tr>\n",
       "  </tbody>\n",
       "</table>\n",
       "</div>"
      ],
      "text/plain": [
       "   hour  day  month            source    destination cab_type    name  price  \\\n",
       "0     9   16     12  Haymarket Square  North Station     Lyft  Shared    5.0   \n",
       "1     2   27     11  Haymarket Square  North Station     Lyft     Lux   11.0   \n",
       "\n",
       "   distance  surge_multiplier    short_summary                   icon  \n",
       "0      0.44               1.0   Mostly Cloudy    partly-cloudy-night   \n",
       "1      0.44               1.0            Rain                   rain   "
      ]
     },
     "execution_count": 18,
     "metadata": {},
     "output_type": "execute_result"
    }
   ],
   "source": [
    "df = df.drop(['product_id'],axis=1)\n",
    "print(df.shape)\n",
    "df.head(2)"
   ]
  },
  {
   "cell_type": "markdown",
   "metadata": {},
   "source": [
    "## melabeli data"
   ]
  },
  {
   "cell_type": "code",
   "execution_count": 19,
   "metadata": {},
   "outputs": [
    {
     "name": "stdout",
     "output_type": "stream",
     "text": [
      "column : Index(['hour', 'day', 'month', 'price', 'distance', 'surge_multiplier',\n",
      "       'source_Back Bay', 'source_Beacon Hill', 'source_Boston University',\n",
      "       'source_Fenway', 'source_Financial District', 'source_Haymarket Square',\n",
      "       'source_North End', 'source_North Station',\n",
      "       'source_Northeastern University', 'source_South Station',\n",
      "       'source_Theatre District', 'source_West End', 'destination_Back Bay',\n",
      "       'destination_Beacon Hill', 'destination_Boston University',\n",
      "       'destination_Fenway', 'destination_Financial District',\n",
      "       'destination_Haymarket Square', 'destination_North End',\n",
      "       'destination_North Station', 'destination_Northeastern University',\n",
      "       'destination_South Station', 'destination_Theatre District',\n",
      "       'destination_West End', 'cab_type_Lyft', 'cab_type_Uber', 'name_Black',\n",
      "       'name_Black SUV', 'name_Lux', 'name_Lux Black', 'name_Lux Black XL',\n",
      "       'name_Lyft', 'name_Lyft XL', 'name_Shared', 'name_Taxi',\n",
      "       'name_UberPool', 'name_UberX', 'name_UberXL', 'name_WAV',\n",
      "       'short_summary_ Clear ', 'short_summary_ Drizzle ',\n",
      "       'short_summary_ Foggy ', 'short_summary_ Light Rain ',\n",
      "       'short_summary_ Mostly Cloudy ', 'short_summary_ Overcast ',\n",
      "       'short_summary_ Partly Cloudy ', 'short_summary_ Possible Drizzle ',\n",
      "       'short_summary_ Rain ', 'icon_ clear-day ', 'icon_ clear-night ',\n",
      "       'icon_ cloudy ', 'icon_ fog ', 'icon_ partly-cloudy-day ',\n",
      "       'icon_ partly-cloudy-night ', 'icon_ rain '],\n",
      "      dtype='object')\n",
      "shape : (693071, 61)\n"
     ]
    },
    {
     "data": {
      "text/html": [
       "<div>\n",
       "<style scoped>\n",
       "    .dataframe tbody tr th:only-of-type {\n",
       "        vertical-align: middle;\n",
       "    }\n",
       "\n",
       "    .dataframe tbody tr th {\n",
       "        vertical-align: top;\n",
       "    }\n",
       "\n",
       "    .dataframe thead th {\n",
       "        text-align: right;\n",
       "    }\n",
       "</style>\n",
       "<table border=\"1\" class=\"dataframe\">\n",
       "  <thead>\n",
       "    <tr style=\"text-align: right;\">\n",
       "      <th></th>\n",
       "      <th>hour</th>\n",
       "      <th>day</th>\n",
       "      <th>month</th>\n",
       "      <th>price</th>\n",
       "      <th>distance</th>\n",
       "      <th>surge_multiplier</th>\n",
       "      <th>source_Back Bay</th>\n",
       "      <th>source_Beacon Hill</th>\n",
       "      <th>source_Boston University</th>\n",
       "      <th>source_Fenway</th>\n",
       "      <th>...</th>\n",
       "      <th>short_summary_ Partly Cloudy</th>\n",
       "      <th>short_summary_ Possible Drizzle</th>\n",
       "      <th>short_summary_ Rain</th>\n",
       "      <th>icon_ clear-day</th>\n",
       "      <th>icon_ clear-night</th>\n",
       "      <th>icon_ cloudy</th>\n",
       "      <th>icon_ fog</th>\n",
       "      <th>icon_ partly-cloudy-day</th>\n",
       "      <th>icon_ partly-cloudy-night</th>\n",
       "      <th>icon_ rain</th>\n",
       "    </tr>\n",
       "  </thead>\n",
       "  <tbody>\n",
       "    <tr>\n",
       "      <th>0</th>\n",
       "      <td>9</td>\n",
       "      <td>16</td>\n",
       "      <td>12</td>\n",
       "      <td>5.0</td>\n",
       "      <td>0.44</td>\n",
       "      <td>1.0</td>\n",
       "      <td>0.0</td>\n",
       "      <td>0.0</td>\n",
       "      <td>0.0</td>\n",
       "      <td>0.0</td>\n",
       "      <td>...</td>\n",
       "      <td>0.0</td>\n",
       "      <td>0.0</td>\n",
       "      <td>0.0</td>\n",
       "      <td>0.0</td>\n",
       "      <td>0.0</td>\n",
       "      <td>0.0</td>\n",
       "      <td>0.0</td>\n",
       "      <td>0.0</td>\n",
       "      <td>1.0</td>\n",
       "      <td>0.0</td>\n",
       "    </tr>\n",
       "    <tr>\n",
       "      <th>1</th>\n",
       "      <td>2</td>\n",
       "      <td>27</td>\n",
       "      <td>11</td>\n",
       "      <td>11.0</td>\n",
       "      <td>0.44</td>\n",
       "      <td>1.0</td>\n",
       "      <td>0.0</td>\n",
       "      <td>0.0</td>\n",
       "      <td>0.0</td>\n",
       "      <td>0.0</td>\n",
       "      <td>...</td>\n",
       "      <td>0.0</td>\n",
       "      <td>0.0</td>\n",
       "      <td>1.0</td>\n",
       "      <td>0.0</td>\n",
       "      <td>0.0</td>\n",
       "      <td>0.0</td>\n",
       "      <td>0.0</td>\n",
       "      <td>0.0</td>\n",
       "      <td>0.0</td>\n",
       "      <td>1.0</td>\n",
       "    </tr>\n",
       "  </tbody>\n",
       "</table>\n",
       "<p>2 rows × 61 columns</p>\n",
       "</div>"
      ],
      "text/plain": [
       "   hour  day  month  price  distance  surge_multiplier  source_Back Bay  \\\n",
       "0     9   16     12    5.0      0.44               1.0              0.0   \n",
       "1     2   27     11   11.0      0.44               1.0              0.0   \n",
       "\n",
       "   source_Beacon Hill  source_Boston University  source_Fenway  ...  \\\n",
       "0                 0.0                       0.0            0.0  ...   \n",
       "1                 0.0                       0.0            0.0  ...   \n",
       "\n",
       "   short_summary_ Partly Cloudy   short_summary_ Possible Drizzle   \\\n",
       "0                            0.0                               0.0   \n",
       "1                            0.0                               0.0   \n",
       "\n",
       "   short_summary_ Rain   icon_ clear-day   icon_ clear-night   icon_ cloudy   \\\n",
       "0                   0.0               0.0                 0.0            0.0   \n",
       "1                   1.0               0.0                 0.0            0.0   \n",
       "\n",
       "   icon_ fog   icon_ partly-cloudy-day   icon_ partly-cloudy-night   \\\n",
       "0         0.0                       0.0                         1.0   \n",
       "1         0.0                       0.0                         0.0   \n",
       "\n",
       "   icon_ rain   \n",
       "0          0.0  \n",
       "1          1.0  \n",
       "\n",
       "[2 rows x 61 columns]"
      ]
     },
     "execution_count": 19,
     "metadata": {},
     "output_type": "execute_result"
    }
   ],
   "source": [
    "cat_feat = df.select_dtypes(include=['object','category']).columns.tolist()\n",
    "\n",
    "for col in cat_feat:\n",
    "    encoder = OneHotEncoder(handle_unknown='ignore')\n",
    "    enc_df = pd.DataFrame(encoder.fit_transform(df[[col]]).toarray())\n",
    "    enc_df.columns = encoder.get_feature_names_out([col])\n",
    "    df = df.drop(col, axis=1)\n",
    "    df = pd.concat([df, enc_df], axis=1)\n",
    "\n",
    "print('column :', df.columns)\n",
    "print('shape :', df.shape)\n",
    "df.head(2)"
   ]
  },
  {
   "cell_type": "markdown",
   "metadata": {},
   "source": [
    "## pengaruh summary"
   ]
  },
  {
   "cell_type": "code",
   "execution_count": 20,
   "metadata": {},
   "outputs": [
    {
     "name": "stdout",
     "output_type": "stream",
     "text": [
      "(693071, 10)\n"
     ]
    },
    {
     "data": {
      "text/html": [
       "<div>\n",
       "<style scoped>\n",
       "    .dataframe tbody tr th:only-of-type {\n",
       "        vertical-align: middle;\n",
       "    }\n",
       "\n",
       "    .dataframe tbody tr th {\n",
       "        vertical-align: top;\n",
       "    }\n",
       "\n",
       "    .dataframe thead th {\n",
       "        text-align: right;\n",
       "    }\n",
       "</style>\n",
       "<table border=\"1\" class=\"dataframe\">\n",
       "  <thead>\n",
       "    <tr style=\"text-align: right;\">\n",
       "      <th></th>\n",
       "      <th>price</th>\n",
       "      <th>short_summary_ Clear</th>\n",
       "      <th>short_summary_ Drizzle</th>\n",
       "      <th>short_summary_ Foggy</th>\n",
       "      <th>short_summary_ Light Rain</th>\n",
       "      <th>short_summary_ Mostly Cloudy</th>\n",
       "      <th>short_summary_ Overcast</th>\n",
       "      <th>short_summary_ Partly Cloudy</th>\n",
       "      <th>short_summary_ Possible Drizzle</th>\n",
       "      <th>short_summary_ Rain</th>\n",
       "    </tr>\n",
       "  </thead>\n",
       "  <tbody>\n",
       "    <tr>\n",
       "      <th>0</th>\n",
       "      <td>5.0</td>\n",
       "      <td>0.0</td>\n",
       "      <td>0.0</td>\n",
       "      <td>0.0</td>\n",
       "      <td>0.0</td>\n",
       "      <td>1.0</td>\n",
       "      <td>0.0</td>\n",
       "      <td>0.0</td>\n",
       "      <td>0.0</td>\n",
       "      <td>0.0</td>\n",
       "    </tr>\n",
       "    <tr>\n",
       "      <th>1</th>\n",
       "      <td>11.0</td>\n",
       "      <td>0.0</td>\n",
       "      <td>0.0</td>\n",
       "      <td>0.0</td>\n",
       "      <td>0.0</td>\n",
       "      <td>0.0</td>\n",
       "      <td>0.0</td>\n",
       "      <td>0.0</td>\n",
       "      <td>0.0</td>\n",
       "      <td>1.0</td>\n",
       "    </tr>\n",
       "  </tbody>\n",
       "</table>\n",
       "</div>"
      ],
      "text/plain": [
       "   price  short_summary_ Clear   short_summary_ Drizzle   \\\n",
       "0    5.0                    0.0                      0.0   \n",
       "1   11.0                    0.0                      0.0   \n",
       "\n",
       "   short_summary_ Foggy   short_summary_ Light Rain   \\\n",
       "0                    0.0                         0.0   \n",
       "1                    0.0                         0.0   \n",
       "\n",
       "   short_summary_ Mostly Cloudy   short_summary_ Overcast   \\\n",
       "0                            1.0                       0.0   \n",
       "1                            0.0                       0.0   \n",
       "\n",
       "   short_summary_ Partly Cloudy   short_summary_ Possible Drizzle   \\\n",
       "0                            0.0                               0.0   \n",
       "1                            0.0                               0.0   \n",
       "\n",
       "   short_summary_ Rain   \n",
       "0                   0.0  \n",
       "1                   1.0  "
      ]
     },
     "execution_count": 20,
     "metadata": {},
     "output_type": "execute_result"
    }
   ],
   "source": [
    "df_4 = df[['price','short_summary_ Clear ',\n",
    "       'short_summary_ Drizzle ', 'short_summary_ Foggy ',\n",
    "       'short_summary_ Light Rain ', 'short_summary_ Mostly Cloudy ',\n",
    "       'short_summary_ Overcast ', 'short_summary_ Partly Cloudy ',\n",
    "       'short_summary_ Possible Drizzle ', 'short_summary_ Rain ']]\n",
    "print(df_4.shape)\n",
    "df_4.head(2)"
   ]
  },
  {
   "cell_type": "code",
   "execution_count": 21,
   "metadata": {},
   "outputs": [
    {
     "data": {
      "text/plain": [
       "<AxesSubplot:>"
      ]
     },
     "execution_count": 21,
     "metadata": {},
     "output_type": "execute_result"
    },
    {
     "data": {
      "image/png": "[encoded data removed]",
      "text/plain": [
       "<Figure size 720x720 with 2 Axes>"
      ]
     },
     "metadata": {
      "needs_background": "light"
     },
     "output_type": "display_data"
    }
   ],
   "source": [
    "plt.figure(figsize=(10,10))\n",
    "sb.heatmap(df_4.corr(),annot=True, mask=np.triu(df_4.corr()))"
   ]
  },
  {
   "cell_type": "markdown",
   "metadata": {},
   "source": [
    "- semua fitur summary tidak memiliki korelasi dengan price, hal ini dapat kita drop dari dataset"
   ]
  },
  {
   "cell_type": "code",
   "execution_count": 22,
   "metadata": {},
   "outputs": [
    {
     "name": "stdout",
     "output_type": "stream",
     "text": [
      "(693071, 52)\n"
     ]
    }
   ],
   "source": [
    "df = df.drop(['short_summary_ Clear ',\n",
    "       'short_summary_ Drizzle ', 'short_summary_ Foggy ',\n",
    "       'short_summary_ Light Rain ', 'short_summary_ Mostly Cloudy ',\n",
    "       'short_summary_ Overcast ', 'short_summary_ Partly Cloudy ',\n",
    "       'short_summary_ Possible Drizzle ', 'short_summary_ Rain '],axis=1)\n",
    "print(df.shape)"
   ]
  },
  {
   "cell_type": "markdown",
   "metadata": {},
   "source": [
    "## pengaruh icon"
   ]
  },
  {
   "cell_type": "code",
   "execution_count": 23,
   "metadata": {},
   "outputs": [
    {
     "name": "stdout",
     "output_type": "stream",
     "text": [
      "(693071, 8)\n"
     ]
    },
    {
     "data": {
      "text/html": [
       "<div>\n",
       "<style scoped>\n",
       "    .dataframe tbody tr th:only-of-type {\n",
       "        vertical-align: middle;\n",
       "    }\n",
       "\n",
       "    .dataframe tbody tr th {\n",
       "        vertical-align: top;\n",
       "    }\n",
       "\n",
       "    .dataframe thead th {\n",
       "        text-align: right;\n",
       "    }\n",
       "</style>\n",
       "<table border=\"1\" class=\"dataframe\">\n",
       "  <thead>\n",
       "    <tr style=\"text-align: right;\">\n",
       "      <th></th>\n",
       "      <th>price</th>\n",
       "      <th>icon_ clear-day</th>\n",
       "      <th>icon_ clear-night</th>\n",
       "      <th>icon_ cloudy</th>\n",
       "      <th>icon_ fog</th>\n",
       "      <th>icon_ partly-cloudy-day</th>\n",
       "      <th>icon_ partly-cloudy-night</th>\n",
       "      <th>icon_ rain</th>\n",
       "    </tr>\n",
       "  </thead>\n",
       "  <tbody>\n",
       "    <tr>\n",
       "      <th>0</th>\n",
       "      <td>5.0</td>\n",
       "      <td>0.0</td>\n",
       "      <td>0.0</td>\n",
       "      <td>0.0</td>\n",
       "      <td>0.0</td>\n",
       "      <td>0.0</td>\n",
       "      <td>1.0</td>\n",
       "      <td>0.0</td>\n",
       "    </tr>\n",
       "    <tr>\n",
       "      <th>1</th>\n",
       "      <td>11.0</td>\n",
       "      <td>0.0</td>\n",
       "      <td>0.0</td>\n",
       "      <td>0.0</td>\n",
       "      <td>0.0</td>\n",
       "      <td>0.0</td>\n",
       "      <td>0.0</td>\n",
       "      <td>1.0</td>\n",
       "    </tr>\n",
       "  </tbody>\n",
       "</table>\n",
       "</div>"
      ],
      "text/plain": [
       "   price  icon_ clear-day   icon_ clear-night   icon_ cloudy   icon_ fog   \\\n",
       "0    5.0               0.0                 0.0            0.0         0.0   \n",
       "1   11.0               0.0                 0.0            0.0         0.0   \n",
       "\n",
       "   icon_ partly-cloudy-day   icon_ partly-cloudy-night   icon_ rain   \n",
       "0                       0.0                         1.0          0.0  \n",
       "1                       0.0                         0.0          1.0  "
      ]
     },
     "execution_count": 23,
     "metadata": {},
     "output_type": "execute_result"
    }
   ],
   "source": [
    "df_5 = df[[ 'price','icon_ clear-day ', 'icon_ clear-night ',\n",
    "       'icon_ cloudy ', 'icon_ fog ', 'icon_ partly-cloudy-day ',\n",
    "       'icon_ partly-cloudy-night ', 'icon_ rain ']]\n",
    "print(df_5.shape)\n",
    "df_5.head(2)"
   ]
  },
  {
   "cell_type": "code",
   "execution_count": 24,
   "metadata": {},
   "outputs": [
    {
     "data": {
      "text/plain": [
       "<AxesSubplot:>"
      ]
     },
     "execution_count": 24,
     "metadata": {},
     "output_type": "execute_result"
    },
    {
     "data": {
      "image/png": "[encoded data removed]",
      "text/plain": [
       "<Figure size 720x720 with 2 Axes>"
      ]
     },
     "metadata": {
      "needs_background": "light"
     },
     "output_type": "display_data"
    }
   ],
   "source": [
    "plt.figure(figsize=(10,10))\n",
    "sb.heatmap(df_5.corr(),annot=True, mask=np.triu(df_5.corr()))"
   ]
  },
  {
   "cell_type": "markdown",
   "metadata": {},
   "source": [
    "- semua fitur icon tidak memiliki korelasi dengan price, dengan demikian dapat kita drop dari dataset"
   ]
  },
  {
   "cell_type": "code",
   "execution_count": 25,
   "metadata": {},
   "outputs": [
    {
     "name": "stdout",
     "output_type": "stream",
     "text": [
      "(693071, 45)\n"
     ]
    }
   ],
   "source": [
    "df = df.drop(['icon_ clear-day ', 'icon_ clear-night ',\n",
    "       'icon_ cloudy ', 'icon_ fog ', 'icon_ partly-cloudy-day ',\n",
    "       'icon_ partly-cloudy-night ', 'icon_ rain '],axis=1)\n",
    "print(df.shape)"
   ]
  },
  {
   "cell_type": "markdown",
   "metadata": {},
   "source": [
    "## pengaruh asal"
   ]
  },
  {
   "cell_type": "code",
   "execution_count": 26,
   "metadata": {},
   "outputs": [
    {
     "name": "stdout",
     "output_type": "stream",
     "text": [
      "(693071, 13)\n"
     ]
    },
    {
     "data": {
      "text/html": [
       "<div>\n",
       "<style scoped>\n",
       "    .dataframe tbody tr th:only-of-type {\n",
       "        vertical-align: middle;\n",
       "    }\n",
       "\n",
       "    .dataframe tbody tr th {\n",
       "        vertical-align: top;\n",
       "    }\n",
       "\n",
       "    .dataframe thead th {\n",
       "        text-align: right;\n",
       "    }\n",
       "</style>\n",
       "<table border=\"1\" class=\"dataframe\">\n",
       "  <thead>\n",
       "    <tr style=\"text-align: right;\">\n",
       "      <th></th>\n",
       "      <th>price</th>\n",
       "      <th>source_Back Bay</th>\n",
       "      <th>source_Beacon Hill</th>\n",
       "      <th>source_Boston University</th>\n",
       "      <th>source_Fenway</th>\n",
       "      <th>source_Financial District</th>\n",
       "      <th>source_Haymarket Square</th>\n",
       "      <th>source_North End</th>\n",
       "      <th>source_North Station</th>\n",
       "      <th>source_Northeastern University</th>\n",
       "      <th>source_South Station</th>\n",
       "      <th>source_Theatre District</th>\n",
       "      <th>source_West End</th>\n",
       "    </tr>\n",
       "  </thead>\n",
       "  <tbody>\n",
       "    <tr>\n",
       "      <th>0</th>\n",
       "      <td>5.0</td>\n",
       "      <td>0.0</td>\n",
       "      <td>0.0</td>\n",
       "      <td>0.0</td>\n",
       "      <td>0.0</td>\n",
       "      <td>0.0</td>\n",
       "      <td>1.0</td>\n",
       "      <td>0.0</td>\n",
       "      <td>0.0</td>\n",
       "      <td>0.0</td>\n",
       "      <td>0.0</td>\n",
       "      <td>0.0</td>\n",
       "      <td>0.0</td>\n",
       "    </tr>\n",
       "    <tr>\n",
       "      <th>1</th>\n",
       "      <td>11.0</td>\n",
       "      <td>0.0</td>\n",
       "      <td>0.0</td>\n",
       "      <td>0.0</td>\n",
       "      <td>0.0</td>\n",
       "      <td>0.0</td>\n",
       "      <td>1.0</td>\n",
       "      <td>0.0</td>\n",
       "      <td>0.0</td>\n",
       "      <td>0.0</td>\n",
       "      <td>0.0</td>\n",
       "      <td>0.0</td>\n",
       "      <td>0.0</td>\n",
       "    </tr>\n",
       "  </tbody>\n",
       "</table>\n",
       "</div>"
      ],
      "text/plain": [
       "   price  source_Back Bay  source_Beacon Hill  source_Boston University  \\\n",
       "0    5.0              0.0                 0.0                       0.0   \n",
       "1   11.0              0.0                 0.0                       0.0   \n",
       "\n",
       "   source_Fenway  source_Financial District  source_Haymarket Square  \\\n",
       "0            0.0                        0.0                      1.0   \n",
       "1            0.0                        0.0                      1.0   \n",
       "\n",
       "   source_North End  source_North Station  source_Northeastern University  \\\n",
       "0               0.0                   0.0                             0.0   \n",
       "1               0.0                   0.0                             0.0   \n",
       "\n",
       "   source_South Station  source_Theatre District  source_West End  \n",
       "0                   0.0                      0.0              0.0  \n",
       "1                   0.0                      0.0              0.0  "
      ]
     },
     "execution_count": 26,
     "metadata": {},
     "output_type": "execute_result"
    }
   ],
   "source": [
    "df_6 = df[[ 'price','source_Back Bay', 'source_Beacon Hill', 'source_Boston University',\n",
    "       'source_Fenway', 'source_Financial District', 'source_Haymarket Square',\n",
    "       'source_North End', 'source_North Station',\n",
    "       'source_Northeastern University', 'source_South Station',\n",
    "       'source_Theatre District', 'source_West End']]\n",
    "print(df_6.shape)\n",
    "df_6.head(2)"
   ]
  },
  {
   "cell_type": "code",
   "execution_count": 27,
   "metadata": {},
   "outputs": [
    {
     "data": {
      "text/plain": [
       "<AxesSubplot:>"
      ]
     },
     "execution_count": 27,
     "metadata": {},
     "output_type": "execute_result"
    },
    {
     "data": {
      "image/png": "[encoded data removed]",
      "text/plain": [
       "<Figure size 720x720 with 2 Axes>"
      ]
     },
     "metadata": {
      "needs_background": "light"
     },
     "output_type": "display_data"
    }
   ],
   "source": [
    "plt.figure(figsize=(10,10))\n",
    "sb.heatmap(df_6.corr(),annot=True, mask=np.triu(df_6.corr()))"
   ]
  },
  {
   "cell_type": "markdown",
   "metadata": {},
   "source": [
    "- semua fitur source tidak memiliki korelasi dengan price, dengan demikian dapat kita drop dari dataset"
   ]
  },
  {
   "cell_type": "code",
   "execution_count": 28,
   "metadata": {},
   "outputs": [
    {
     "name": "stdout",
     "output_type": "stream",
     "text": [
      "(693071, 33)\n"
     ]
    }
   ],
   "source": [
    "df = df.drop(['source_Back Bay', 'source_Beacon Hill', 'source_Boston University',\n",
    "       'source_Fenway', 'source_Financial District', 'source_Haymarket Square',\n",
    "       'source_North End', 'source_North Station',\n",
    "       'source_Northeastern University', 'source_South Station',\n",
    "       'source_Theatre District', 'source_West End'],axis=1)\n",
    "print(df.shape)"
   ]
  },
  {
   "cell_type": "markdown",
   "metadata": {},
   "source": [
    "## pengaruh tujuan"
   ]
  },
  {
   "cell_type": "code",
   "execution_count": 29,
   "metadata": {},
   "outputs": [
    {
     "name": "stdout",
     "output_type": "stream",
     "text": [
      "(693071, 13)\n"
     ]
    },
    {
     "data": {
      "text/html": [
       "<div>\n",
       "<style scoped>\n",
       "    .dataframe tbody tr th:only-of-type {\n",
       "        vertical-align: middle;\n",
       "    }\n",
       "\n",
       "    .dataframe tbody tr th {\n",
       "        vertical-align: top;\n",
       "    }\n",
       "\n",
       "    .dataframe thead th {\n",
       "        text-align: right;\n",
       "    }\n",
       "</style>\n",
       "<table border=\"1\" class=\"dataframe\">\n",
       "  <thead>\n",
       "    <tr style=\"text-align: right;\">\n",
       "      <th></th>\n",
       "      <th>price</th>\n",
       "      <th>destination_Back Bay</th>\n",
       "      <th>destination_Beacon Hill</th>\n",
       "      <th>destination_Boston University</th>\n",
       "      <th>destination_Fenway</th>\n",
       "      <th>destination_Financial District</th>\n",
       "      <th>destination_Haymarket Square</th>\n",
       "      <th>destination_North End</th>\n",
       "      <th>destination_North Station</th>\n",
       "      <th>destination_Northeastern University</th>\n",
       "      <th>destination_South Station</th>\n",
       "      <th>destination_Theatre District</th>\n",
       "      <th>destination_West End</th>\n",
       "    </tr>\n",
       "  </thead>\n",
       "  <tbody>\n",
       "    <tr>\n",
       "      <th>0</th>\n",
       "      <td>5.0</td>\n",
       "      <td>0.0</td>\n",
       "      <td>0.0</td>\n",
       "      <td>0.0</td>\n",
       "      <td>0.0</td>\n",
       "      <td>0.0</td>\n",
       "      <td>0.0</td>\n",
       "      <td>0.0</td>\n",
       "      <td>1.0</td>\n",
       "      <td>0.0</td>\n",
       "      <td>0.0</td>\n",
       "      <td>0.0</td>\n",
       "      <td>0.0</td>\n",
       "    </tr>\n",
       "    <tr>\n",
       "      <th>1</th>\n",
       "      <td>11.0</td>\n",
       "      <td>0.0</td>\n",
       "      <td>0.0</td>\n",
       "      <td>0.0</td>\n",
       "      <td>0.0</td>\n",
       "      <td>0.0</td>\n",
       "      <td>0.0</td>\n",
       "      <td>0.0</td>\n",
       "      <td>1.0</td>\n",
       "      <td>0.0</td>\n",
       "      <td>0.0</td>\n",
       "      <td>0.0</td>\n",
       "      <td>0.0</td>\n",
       "    </tr>\n",
       "  </tbody>\n",
       "</table>\n",
       "</div>"
      ],
      "text/plain": [
       "   price  destination_Back Bay  destination_Beacon Hill  \\\n",
       "0    5.0                   0.0                      0.0   \n",
       "1   11.0                   0.0                      0.0   \n",
       "\n",
       "   destination_Boston University  destination_Fenway  \\\n",
       "0                            0.0                 0.0   \n",
       "1                            0.0                 0.0   \n",
       "\n",
       "   destination_Financial District  destination_Haymarket Square  \\\n",
       "0                             0.0                           0.0   \n",
       "1                             0.0                           0.0   \n",
       "\n",
       "   destination_North End  destination_North Station  \\\n",
       "0                    0.0                        1.0   \n",
       "1                    0.0                        1.0   \n",
       "\n",
       "   destination_Northeastern University  destination_South Station  \\\n",
       "0                                  0.0                        0.0   \n",
       "1                                  0.0                        0.0   \n",
       "\n",
       "   destination_Theatre District  destination_West End  \n",
       "0                           0.0                   0.0  \n",
       "1                           0.0                   0.0  "
      ]
     },
     "execution_count": 29,
     "metadata": {},
     "output_type": "execute_result"
    }
   ],
   "source": [
    "df_7 = df[[ 'price','destination_Back Bay',\n",
    "       'destination_Beacon Hill', 'destination_Boston University',\n",
    "       'destination_Fenway', 'destination_Financial District',\n",
    "       'destination_Haymarket Square', 'destination_North End',\n",
    "       'destination_North Station', 'destination_Northeastern University',\n",
    "       'destination_South Station', 'destination_Theatre District',\n",
    "       'destination_West End']]\n",
    "print(df_7.shape)\n",
    "df_7.head(2)"
   ]
  },
  {
   "cell_type": "code",
   "execution_count": 30,
   "metadata": {},
   "outputs": [
    {
     "data": {
      "text/plain": [
       "<AxesSubplot:>"
      ]
     },
     "execution_count": 30,
     "metadata": {},
     "output_type": "execute_result"
    },
    {
     "data": {
      "image/png": "[encoded data removed]",
      "text/plain": [
       "<Figure size 720x720 with 2 Axes>"
      ]
     },
     "metadata": {
      "needs_background": "light"
     },
     "output_type": "display_data"
    }
   ],
   "source": [
    "plt.figure(figsize=(10,10))\n",
    "sb.heatmap(df_7.corr(),annot=True, mask=np.triu(df_7.corr()))"
   ]
  },
  {
   "cell_type": "markdown",
   "metadata": {},
   "source": [
    "- semua fitur destination tidak memiliki korelasi dengan price, dengan demikian dapat kita drop dari dataset"
   ]
  },
  {
   "cell_type": "code",
   "execution_count": 31,
   "metadata": {},
   "outputs": [
    {
     "name": "stdout",
     "output_type": "stream",
     "text": [
      "(693071, 21)\n"
     ]
    }
   ],
   "source": [
    "df = df.drop(['destination_Back Bay',\n",
    "       'destination_Beacon Hill', 'destination_Boston University',\n",
    "       'destination_Fenway', 'destination_Financial District',\n",
    "       'destination_Haymarket Square', 'destination_North End',\n",
    "       'destination_North Station', 'destination_Northeastern University',\n",
    "       'destination_South Station', 'destination_Theatre District',\n",
    "       'destination_West End'],axis=1)\n",
    "print(df.shape)"
   ]
  },
  {
   "cell_type": "markdown",
   "metadata": {},
   "source": [
    "## pengaruh cab type"
   ]
  },
  {
   "cell_type": "code",
   "execution_count": 32,
   "metadata": {},
   "outputs": [
    {
     "name": "stdout",
     "output_type": "stream",
     "text": [
      "(693071, 3)\n"
     ]
    },
    {
     "data": {
      "text/html": [
       "<div>\n",
       "<style scoped>\n",
       "    .dataframe tbody tr th:only-of-type {\n",
       "        vertical-align: middle;\n",
       "    }\n",
       "\n",
       "    .dataframe tbody tr th {\n",
       "        vertical-align: top;\n",
       "    }\n",
       "\n",
       "    .dataframe thead th {\n",
       "        text-align: right;\n",
       "    }\n",
       "</style>\n",
       "<table border=\"1\" class=\"dataframe\">\n",
       "  <thead>\n",
       "    <tr style=\"text-align: right;\">\n",
       "      <th></th>\n",
       "      <th>price</th>\n",
       "      <th>cab_type_Lyft</th>\n",
       "      <th>cab_type_Uber</th>\n",
       "    </tr>\n",
       "  </thead>\n",
       "  <tbody>\n",
       "    <tr>\n",
       "      <th>0</th>\n",
       "      <td>5.0</td>\n",
       "      <td>1.0</td>\n",
       "      <td>0.0</td>\n",
       "    </tr>\n",
       "    <tr>\n",
       "      <th>1</th>\n",
       "      <td>11.0</td>\n",
       "      <td>1.0</td>\n",
       "      <td>0.0</td>\n",
       "    </tr>\n",
       "  </tbody>\n",
       "</table>\n",
       "</div>"
      ],
      "text/plain": [
       "   price  cab_type_Lyft  cab_type_Uber\n",
       "0    5.0            1.0            0.0\n",
       "1   11.0            1.0            0.0"
      ]
     },
     "execution_count": 32,
     "metadata": {},
     "output_type": "execute_result"
    }
   ],
   "source": [
    "df_8 = df[['price', 'cab_type_Lyft','cab_type_Uber']]\n",
    "print(df_8.shape)\n",
    "df_8.head(2)"
   ]
  },
  {
   "cell_type": "code",
   "execution_count": 33,
   "metadata": {},
   "outputs": [
    {
     "data": {
      "text/plain": [
       "<AxesSubplot:>"
      ]
     },
     "execution_count": 33,
     "metadata": {},
     "output_type": "execute_result"
    },
    {
     "data": {
      "image/png": "[encoded data removed]",
      "text/plain": [
       "<Figure size 720x720 with 2 Axes>"
      ]
     },
     "metadata": {
      "needs_background": "light"
     },
     "output_type": "display_data"
    }
   ],
   "source": [
    "plt.figure(figsize=(10,10))\n",
    "sb.heatmap(df_8.corr(),annot=True)"
   ]
  },
  {
   "cell_type": "markdown",
   "metadata": {},
   "source": [
    "- semua fitur cab tidak memiliki korelasi dengan price, dengan demikian dapat kita drop dari dataset\n",
    "- selain itu, dapat diketahui bahwa aplikasi pesanan yang digunakan baik uber ataupun lyft tidak mempengaruhi price. tidak ada aplikasi lebih murah ataupun lebih mahal"
   ]
  },
  {
   "cell_type": "code",
   "execution_count": 34,
   "metadata": {},
   "outputs": [
    {
     "name": "stdout",
     "output_type": "stream",
     "text": [
      "(693071, 19)\n"
     ]
    }
   ],
   "source": [
    "df = df.drop(['cab_type_Lyft','cab_type_Uber'],axis=1)\n",
    "print(df.shape)"
   ]
  },
  {
   "cell_type": "markdown",
   "metadata": {},
   "source": [
    "## pengaruh name"
   ]
  },
  {
   "cell_type": "code",
   "execution_count": 35,
   "metadata": {},
   "outputs": [
    {
     "name": "stdout",
     "output_type": "stream",
     "text": [
      "(693071, 13)\n"
     ]
    },
    {
     "data": {
      "text/html": [
       "<div>\n",
       "<style scoped>\n",
       "    .dataframe tbody tr th:only-of-type {\n",
       "        vertical-align: middle;\n",
       "    }\n",
       "\n",
       "    .dataframe tbody tr th {\n",
       "        vertical-align: top;\n",
       "    }\n",
       "\n",
       "    .dataframe thead th {\n",
       "        text-align: right;\n",
       "    }\n",
       "</style>\n",
       "<table border=\"1\" class=\"dataframe\">\n",
       "  <thead>\n",
       "    <tr style=\"text-align: right;\">\n",
       "      <th></th>\n",
       "      <th>price</th>\n",
       "      <th>name_Black</th>\n",
       "      <th>name_Black SUV</th>\n",
       "      <th>name_Lux</th>\n",
       "      <th>name_Lux Black</th>\n",
       "      <th>name_Lux Black XL</th>\n",
       "      <th>name_Lyft</th>\n",
       "      <th>name_Lyft XL</th>\n",
       "      <th>name_Shared</th>\n",
       "      <th>name_UberPool</th>\n",
       "      <th>name_UberX</th>\n",
       "      <th>name_UberXL</th>\n",
       "      <th>name_WAV</th>\n",
       "    </tr>\n",
       "  </thead>\n",
       "  <tbody>\n",
       "    <tr>\n",
       "      <th>0</th>\n",
       "      <td>5.0</td>\n",
       "      <td>0.0</td>\n",
       "      <td>0.0</td>\n",
       "      <td>0.0</td>\n",
       "      <td>0.0</td>\n",
       "      <td>0.0</td>\n",
       "      <td>0.0</td>\n",
       "      <td>0.0</td>\n",
       "      <td>1.0</td>\n",
       "      <td>0.0</td>\n",
       "      <td>0.0</td>\n",
       "      <td>0.0</td>\n",
       "      <td>0.0</td>\n",
       "    </tr>\n",
       "    <tr>\n",
       "      <th>1</th>\n",
       "      <td>11.0</td>\n",
       "      <td>0.0</td>\n",
       "      <td>0.0</td>\n",
       "      <td>1.0</td>\n",
       "      <td>0.0</td>\n",
       "      <td>0.0</td>\n",
       "      <td>0.0</td>\n",
       "      <td>0.0</td>\n",
       "      <td>0.0</td>\n",
       "      <td>0.0</td>\n",
       "      <td>0.0</td>\n",
       "      <td>0.0</td>\n",
       "      <td>0.0</td>\n",
       "    </tr>\n",
       "  </tbody>\n",
       "</table>\n",
       "</div>"
      ],
      "text/plain": [
       "   price  name_Black  name_Black SUV  name_Lux  name_Lux Black  \\\n",
       "0    5.0         0.0             0.0       0.0             0.0   \n",
       "1   11.0         0.0             0.0       1.0             0.0   \n",
       "\n",
       "   name_Lux Black XL  name_Lyft  name_Lyft XL  name_Shared  name_UberPool  \\\n",
       "0                0.0        0.0           0.0          1.0            0.0   \n",
       "1                0.0        0.0           0.0          0.0            0.0   \n",
       "\n",
       "   name_UberX  name_UberXL  name_WAV  \n",
       "0         0.0          0.0       0.0  \n",
       "1         0.0          0.0       0.0  "
      ]
     },
     "execution_count": 35,
     "metadata": {},
     "output_type": "execute_result"
    }
   ],
   "source": [
    "df_9 = df[['price','name_Black', 'name_Black SUV',\n",
    "       'name_Lux', 'name_Lux Black', 'name_Lux Black XL', 'name_Lyft',\n",
    "       'name_Lyft XL', 'name_Shared', 'name_UberPool', 'name_UberX',\n",
    "       'name_UberXL', 'name_WAV']]\n",
    "print(df_9.shape)\n",
    "df_9.head(2)"
   ]
  },
  {
   "cell_type": "code",
   "execution_count": 36,
   "metadata": {},
   "outputs": [
    {
     "data": {
      "text/plain": [
       "<AxesSubplot:>"
      ]
     },
     "execution_count": 36,
     "metadata": {},
     "output_type": "execute_result"
    },
    {
     "data": {
      "image/png": "[encoded data removed]",
      "text/plain": [
       "<Figure size 720x720 with 2 Axes>"
      ]
     },
     "metadata": {
      "needs_background": "light"
     },
     "output_type": "display_data"
    }
   ],
   "source": [
    "plt.figure(figsize=(10,10))\n",
    "sb.heatmap(df_9.corr(),annot=True, mask=np.triu(df_9.corr()))"
   ]
  },
  {
   "cell_type": "markdown",
   "metadata": {},
   "source": [
    "- fitur name merupakan jenis mobil yang digunakan untuk pesanan\n",
    "- beberapa fitur name memiliki korelasi dengan price, dengan demikian name akan mempanguruhi nilai price \n",
    "- fitur name tidak perlu di drop dari dataset"
   ]
  },
  {
   "cell_type": "markdown",
   "metadata": {},
   "source": [
    "## pengaruh fitur lainnya"
   ]
  },
  {
   "cell_type": "code",
   "execution_count": 37,
   "metadata": {},
   "outputs": [
    {
     "name": "stdout",
     "output_type": "stream",
     "text": [
      "(693071, 6)\n"
     ]
    },
    {
     "data": {
      "text/html": [
       "<div>\n",
       "<style scoped>\n",
       "    .dataframe tbody tr th:only-of-type {\n",
       "        vertical-align: middle;\n",
       "    }\n",
       "\n",
       "    .dataframe tbody tr th {\n",
       "        vertical-align: top;\n",
       "    }\n",
       "\n",
       "    .dataframe thead th {\n",
       "        text-align: right;\n",
       "    }\n",
       "</style>\n",
       "<table border=\"1\" class=\"dataframe\">\n",
       "  <thead>\n",
       "    <tr style=\"text-align: right;\">\n",
       "      <th></th>\n",
       "      <th>price</th>\n",
       "      <th>hour</th>\n",
       "      <th>day</th>\n",
       "      <th>month</th>\n",
       "      <th>distance</th>\n",
       "      <th>surge_multiplier</th>\n",
       "    </tr>\n",
       "  </thead>\n",
       "  <tbody>\n",
       "    <tr>\n",
       "      <th>0</th>\n",
       "      <td>5.0</td>\n",
       "      <td>9</td>\n",
       "      <td>16</td>\n",
       "      <td>12</td>\n",
       "      <td>0.44</td>\n",
       "      <td>1.0</td>\n",
       "    </tr>\n",
       "    <tr>\n",
       "      <th>1</th>\n",
       "      <td>11.0</td>\n",
       "      <td>2</td>\n",
       "      <td>27</td>\n",
       "      <td>11</td>\n",
       "      <td>0.44</td>\n",
       "      <td>1.0</td>\n",
       "    </tr>\n",
       "  </tbody>\n",
       "</table>\n",
       "</div>"
      ],
      "text/plain": [
       "   price  hour  day  month  distance  surge_multiplier\n",
       "0    5.0     9   16     12      0.44               1.0\n",
       "1   11.0     2   27     11      0.44               1.0"
      ]
     },
     "execution_count": 37,
     "metadata": {},
     "output_type": "execute_result"
    }
   ],
   "source": [
    "df_10 = df[['price','hour', 'day', 'month', 'distance', 'surge_multiplier']]\n",
    "print(df_10.shape)\n",
    "df_10.head(2)"
   ]
  },
  {
   "cell_type": "code",
   "execution_count": 38,
   "metadata": {},
   "outputs": [
    {
     "data": {
      "text/plain": [
       "<AxesSubplot:>"
      ]
     },
     "execution_count": 38,
     "metadata": {},
     "output_type": "execute_result"
    },
    {
     "data": {
      "image/png": "[encoded data removed]",
      "text/plain": [
       "<Figure size 720x720 with 2 Axes>"
      ]
     },
     "metadata": {
      "needs_background": "light"
     },
     "output_type": "display_data"
    }
   ],
   "source": [
    "plt.figure(figsize=(10,10))\n",
    "sb.heatmap(df_10.corr(),annot=True, mask=np.triu(df_10.corr()))"
   ]
  },
  {
   "cell_type": "markdown",
   "metadata": {},
   "source": [
    "- selain fitur surge multiplier dan distance memiliki korelasi yang sangat rendah, yang tidak mempengaruhi nilai price dan dapat di drop dari dataset\n",
    "- fitur surge multiplier dan distance memiliki korelasi untuk penentuan nilai price, maka fitur ini dipertahankan di dataset"
   ]
  },
  {
   "cell_type": "code",
   "execution_count": 39,
   "metadata": {},
   "outputs": [
    {
     "name": "stdout",
     "output_type": "stream",
     "text": [
      "(693071, 16)\n"
     ]
    },
    {
     "data": {
      "text/html": [
       "<div>\n",
       "<style scoped>\n",
       "    .dataframe tbody tr th:only-of-type {\n",
       "        vertical-align: middle;\n",
       "    }\n",
       "\n",
       "    .dataframe tbody tr th {\n",
       "        vertical-align: top;\n",
       "    }\n",
       "\n",
       "    .dataframe thead th {\n",
       "        text-align: right;\n",
       "    }\n",
       "</style>\n",
       "<table border=\"1\" class=\"dataframe\">\n",
       "  <thead>\n",
       "    <tr style=\"text-align: right;\">\n",
       "      <th></th>\n",
       "      <th>price</th>\n",
       "      <th>distance</th>\n",
       "      <th>surge_multiplier</th>\n",
       "      <th>name_Black</th>\n",
       "      <th>name_Black SUV</th>\n",
       "      <th>name_Lux</th>\n",
       "      <th>name_Lux Black</th>\n",
       "      <th>name_Lux Black XL</th>\n",
       "      <th>name_Lyft</th>\n",
       "      <th>name_Lyft XL</th>\n",
       "      <th>name_Shared</th>\n",
       "      <th>name_Taxi</th>\n",
       "      <th>name_UberPool</th>\n",
       "      <th>name_UberX</th>\n",
       "      <th>name_UberXL</th>\n",
       "      <th>name_WAV</th>\n",
       "    </tr>\n",
       "  </thead>\n",
       "  <tbody>\n",
       "    <tr>\n",
       "      <th>0</th>\n",
       "      <td>5.0</td>\n",
       "      <td>0.44</td>\n",
       "      <td>1.0</td>\n",
       "      <td>0.0</td>\n",
       "      <td>0.0</td>\n",
       "      <td>0.0</td>\n",
       "      <td>0.0</td>\n",
       "      <td>0.0</td>\n",
       "      <td>0.0</td>\n",
       "      <td>0.0</td>\n",
       "      <td>1.0</td>\n",
       "      <td>0.0</td>\n",
       "      <td>0.0</td>\n",
       "      <td>0.0</td>\n",
       "      <td>0.0</td>\n",
       "      <td>0.0</td>\n",
       "    </tr>\n",
       "    <tr>\n",
       "      <th>1</th>\n",
       "      <td>11.0</td>\n",
       "      <td>0.44</td>\n",
       "      <td>1.0</td>\n",
       "      <td>0.0</td>\n",
       "      <td>0.0</td>\n",
       "      <td>1.0</td>\n",
       "      <td>0.0</td>\n",
       "      <td>0.0</td>\n",
       "      <td>0.0</td>\n",
       "      <td>0.0</td>\n",
       "      <td>0.0</td>\n",
       "      <td>0.0</td>\n",
       "      <td>0.0</td>\n",
       "      <td>0.0</td>\n",
       "      <td>0.0</td>\n",
       "      <td>0.0</td>\n",
       "    </tr>\n",
       "  </tbody>\n",
       "</table>\n",
       "</div>"
      ],
      "text/plain": [
       "   price  distance  surge_multiplier  name_Black  name_Black SUV  name_Lux  \\\n",
       "0    5.0      0.44               1.0         0.0             0.0       0.0   \n",
       "1   11.0      0.44               1.0         0.0             0.0       1.0   \n",
       "\n",
       "   name_Lux Black  name_Lux Black XL  name_Lyft  name_Lyft XL  name_Shared  \\\n",
       "0             0.0                0.0        0.0           0.0          1.0   \n",
       "1             0.0                0.0        0.0           0.0          0.0   \n",
       "\n",
       "   name_Taxi  name_UberPool  name_UberX  name_UberXL  name_WAV  \n",
       "0        0.0            0.0         0.0          0.0       0.0  \n",
       "1        0.0            0.0         0.0          0.0       0.0  "
      ]
     },
     "execution_count": 39,
     "metadata": {},
     "output_type": "execute_result"
    }
   ],
   "source": [
    "df = df.drop(['hour', 'day', 'month'],axis=1)\n",
    "print(df.shape)\n",
    "df.head(2)"
   ]
  },
  {
   "cell_type": "markdown",
   "metadata": {},
   "source": [
    "# Data Preprosesing"
   ]
  },
  {
   "cell_type": "markdown",
   "metadata": {},
   "source": [
    "## data kosong"
   ]
  },
  {
   "cell_type": "code",
   "execution_count": 40,
   "metadata": {},
   "outputs": [
    {
     "data": {
      "text/plain": [
       "price                55095\n",
       "distance                 0\n",
       "surge_multiplier         0\n",
       "name_Black               0\n",
       "name_Black SUV           0\n",
       "name_Lux                 0\n",
       "name_Lux Black           0\n",
       "name_Lux Black XL        0\n",
       "name_Lyft                0\n",
       "name_Lyft XL             0\n",
       "name_Shared              0\n",
       "name_Taxi                0\n",
       "name_UberPool            0\n",
       "name_UberX               0\n",
       "name_UberXL              0\n",
       "name_WAV                 0\n",
       "dtype: int64"
      ]
     },
     "execution_count": 40,
     "metadata": {},
     "output_type": "execute_result"
    }
   ],
   "source": [
    "df.isnull().sum()"
   ]
  },
  {
   "cell_type": "code",
   "execution_count": 41,
   "metadata": {},
   "outputs": [],
   "source": [
    "df = df.dropna(subset = ['price']).reset_index()"
   ]
  },
  {
   "cell_type": "code",
   "execution_count": 42,
   "metadata": {},
   "outputs": [
    {
     "data": {
      "text/plain": [
       "index                0\n",
       "price                0\n",
       "distance             0\n",
       "surge_multiplier     0\n",
       "name_Black           0\n",
       "name_Black SUV       0\n",
       "name_Lux             0\n",
       "name_Lux Black       0\n",
       "name_Lux Black XL    0\n",
       "name_Lyft            0\n",
       "name_Lyft XL         0\n",
       "name_Shared          0\n",
       "name_Taxi            0\n",
       "name_UberPool        0\n",
       "name_UberX           0\n",
       "name_UberXL          0\n",
       "name_WAV             0\n",
       "dtype: int64"
      ]
     },
     "execution_count": 42,
     "metadata": {},
     "output_type": "execute_result"
    }
   ],
   "source": [
    "df.isnull().sum()"
   ]
  },
  {
   "cell_type": "markdown",
   "metadata": {},
   "source": [
    "## outlier"
   ]
  },
  {
   "cell_type": "code",
   "execution_count": 43,
   "metadata": {},
   "outputs": [
    {
     "name": "stderr",
     "output_type": "stream",
     "text": [
      "/home/jefl5/.local/lib/python3.8/site-packages/seaborn/_decorators.py:36: FutureWarning: Pass the following variable as a keyword arg: x. From version 0.12, the only valid positional argument will be `data`, and passing other arguments without an explicit keyword will result in an error or misinterpretation.\n",
      "  warnings.warn(\n"
     ]
    },
    {
     "data": {
      "text/plain": [
       "<AxesSubplot:xlabel='price'>"
      ]
     },
     "execution_count": 43,
     "metadata": {},
     "output_type": "execute_result"
    },
    {
     "data": {
      "image/png": "[encoded data removed]",
      "text/plain": [
       "<Figure size 432x288 with 1 Axes>"
      ]
     },
     "metadata": {
      "needs_background": "light"
     },
     "output_type": "display_data"
    }
   ],
   "source": [
    "sb.boxplot(df['price'])"
   ]
  },
  {
   "cell_type": "markdown",
   "metadata": {},
   "source": [
    "- terdapat banyak nilai outlier\n",
    "- nilai outlier dapat menyebabkan error\n",
    "- perlu melakukan drop pada data - data yang berada pada outlier"
   ]
  },
  {
   "cell_type": "code",
   "execution_count": 44,
   "metadata": {},
   "outputs": [
    {
     "name": "stdout",
     "output_type": "stream",
     "text": [
      "ambang atas : 42.5\n",
      "ambang bawah : 3.5\n"
     ]
    }
   ],
   "source": [
    "ambang_atas = df['price'].quantile(0.99)\n",
    "print('ambang atas :', ambang_atas)\n",
    "ambang_bawah = df['price'].quantile(0.01)\n",
    "print('ambang bawah :', ambang_bawah)"
   ]
  },
  {
   "cell_type": "code",
   "execution_count": 45,
   "metadata": {},
   "outputs": [
    {
     "name": "stdout",
     "output_type": "stream",
     "text": [
      "[43.0, 43.5, 44.0, 44.5, 45.0, 45.35, 45.5, 46.0, 46.5, 47.0, 47.5, 48.0, 48.5, 49.0, 49.5, 50.5, 51.0, 51.5, 52.0, 52.5, 53.0, 53.5, 54.0, 54.5, 55.0, 55.5, 56.0, 56.5, 57.0, 57.5, 58.0, 58.5, 59.0, 59.5, 60.5, 61.5, 62.0, 62.5, 63.0, 64.0, 64.5, 65.0, 67.0, 67.5, 68.0, 68.5, 73.5, 75.0, 76.0, 80.0, 80.5, 81.5, 87.0, 87.5, 89.0, 89.5, 92.0, 97.5]\n"
     ]
    }
   ],
   "source": [
    "df_out_atas = df[df['price']>ambang_atas]\n",
    "print(sorted(df_out_atas.price.unique()))"
   ]
  },
  {
   "cell_type": "markdown",
   "metadata": {},
   "source": [
    "- banyak nilai outlier yang berjarak jauh dengan nilai ambang batas atas (42.5)\n",
    "- kita perlu untuk drop dengan nilai price yang jauh sehingga tidak meningkatkan nilai error"
   ]
  },
  {
   "cell_type": "code",
   "execution_count": 46,
   "metadata": {},
   "outputs": [
    {
     "name": "stdout",
     "output_type": "stream",
     "text": [
      "[2.5, 3.0]\n"
     ]
    }
   ],
   "source": [
    "df_out_bawah= df[df['price']<ambang_bawah]\n",
    "print(sorted(df_out_bawah.price.unique()))"
   ]
  },
  {
   "cell_type": "markdown",
   "metadata": {},
   "source": [
    "- hanya memiliki 2 nilai outlier yang jaraknya tidak terlalu jauh dari ambang batas bawah (3.5)\n",
    "- sehingga kita dapat menggunakan nilai ini karena kemungkinan error kecil"
   ]
  },
  {
   "cell_type": "code",
   "execution_count": 47,
   "metadata": {},
   "outputs": [
    {
     "name": "stdout",
     "output_type": "stream",
     "text": [
      "5285\n"
     ]
    }
   ],
   "source": [
    "drop = np.where(df['price']>43.5)\n",
    "print(np.count_nonzero(np.where(df['price']>43.5)))"
   ]
  },
  {
   "cell_type": "markdown",
   "metadata": {},
   "source": [
    "- ada sebanyak 5285 data yang dapat kita hapus dari dataset"
   ]
  },
  {
   "cell_type": "code",
   "execution_count": 48,
   "metadata": {},
   "outputs": [
    {
     "data": {
      "text/plain": [
       "(637976, 17)"
      ]
     },
     "execution_count": 48,
     "metadata": {},
     "output_type": "execute_result"
    }
   ],
   "source": [
    "df.shape"
   ]
  },
  {
   "cell_type": "code",
   "execution_count": 49,
   "metadata": {},
   "outputs": [
    {
     "data": {
      "text/plain": [
       "(632691, 17)"
      ]
     },
     "execution_count": 49,
     "metadata": {},
     "output_type": "execute_result"
    }
   ],
   "source": [
    "df.drop(drop[0], inplace = True)\n",
    "df.shape"
   ]
  },
  {
   "cell_type": "markdown",
   "metadata": {},
   "source": [
    "## skewness"
   ]
  },
  {
   "cell_type": "code",
   "execution_count": 50,
   "metadata": {},
   "outputs": [
    {
     "name": "stdout",
     "output_type": "stream",
     "text": [
      "distance\n",
      "0.7800170185979869\n"
     ]
    },
    {
     "name": "stderr",
     "output_type": "stream",
     "text": [
      "/home/jefl5/.local/lib/python3.8/site-packages/seaborn/distributions.py:2619: FutureWarning: `distplot` is a deprecated function and will be removed in a future version. Please adapt your code to use either `displot` (a figure-level function with similar flexibility) or `histplot` (an axes-level function for histograms).\n",
      "  warnings.warn(msg, FutureWarning)\n"
     ]
    },
    {
     "data": {
      "image/png": "[encoded data removed]",
      "text/plain": [
       "<Figure size 432x288 with 1 Axes>"
      ]
     },
     "metadata": {
      "needs_background": "light"
     },
     "output_type": "display_data"
    },
    {
     "name": "stdout",
     "output_type": "stream",
     "text": [
      "surge_multiplier\n",
      "8.849789532177159\n"
     ]
    },
    {
     "name": "stderr",
     "output_type": "stream",
     "text": [
      "/home/jefl5/.local/lib/python3.8/site-packages/seaborn/distributions.py:2619: FutureWarning: `distplot` is a deprecated function and will be removed in a future version. Please adapt your code to use either `displot` (a figure-level function with similar flexibility) or `histplot` (an axes-level function for histograms).\n",
      "  warnings.warn(msg, FutureWarning)\n"
     ]
    },
    {
     "data": {
      "image/png": "[encoded data removed]",
      "text/plain": [
       "<Figure size 432x288 with 1 Axes>"
      ]
     },
     "metadata": {
      "needs_background": "light"
     },
     "output_type": "display_data"
    }
   ],
   "source": [
    "fitur = ['distance','surge_multiplier']\n",
    "for col in fitur:\n",
    "    print(col)\n",
    "    print(skew(df[col]))\n",
    "    plt.figure()\n",
    "    sb.distplot(df[col])\n",
    "    plt.show()"
   ]
  },
  {
   "cell_type": "markdown",
   "metadata": {},
   "source": [
    "- surge_multiplier memiliki nilai skewness yang besar, yang mengartikan bahwa data condong pada salah satu sisi dan tidak mengikuti fungsi distribusi normal\n",
    "- nilai skewness yang besar memiliki ekor yang berpotensi sebagai outlier\n",
    "- maka, perlu menurunkan nilai skewness dari dataset"
   ]
  },
  {
   "cell_type": "code",
   "execution_count": 51,
   "metadata": {},
   "outputs": [
    {
     "data": {
      "text/plain": [
       "7.675563340641953"
      ]
     },
     "execution_count": 51,
     "metadata": {},
     "output_type": "execute_result"
    }
   ],
   "source": [
    "# transformasi log\n",
    "surge_log=np.log(df['surge_multiplier'])\n",
    "surge_log.skew()"
   ]
  },
  {
   "cell_type": "code",
   "execution_count": 52,
   "metadata": {},
   "outputs": [
    {
     "data": {
      "text/plain": [
       "7.675563340641953"
      ]
     },
     "execution_count": 52,
     "metadata": {},
     "output_type": "execute_result"
    }
   ],
   "source": [
    "surge_log=df['surge_multiplier']\n",
    "surge_log=np.log(df['surge_multiplier'])\n",
    "surge_log.skew()"
   ]
  },
  {
   "cell_type": "code",
   "execution_count": 53,
   "metadata": {},
   "outputs": [
    {
     "data": {
      "text/plain": [
       "8.19181487692188"
      ]
     },
     "execution_count": 53,
     "metadata": {},
     "output_type": "execute_result"
    }
   ],
   "source": [
    "# transformasi akar\n",
    "surge_sqrt= df['surge_multiplier']\n",
    "surge_sqrt= np.sqrt(df['surge_multiplier'])\n",
    "surge_sqrt.skew()"
   ]
  },
  {
   "cell_type": "code",
   "execution_count": 54,
   "metadata": {},
   "outputs": [
    {
     "data": {
      "text/plain": [
       "5.644799850662935"
      ]
     },
     "execution_count": 54,
     "metadata": {},
     "output_type": "execute_result"
    }
   ],
   "source": [
    "surge_bc= df['surge_multiplier']\n",
    "surge_bc= stats.boxcox(df['surge_multiplier'])[0]\n",
    "pd.Series(surge_bc).skew()"
   ]
  },
  {
   "cell_type": "markdown",
   "metadata": {},
   "source": [
    "- dengan menggunakan boxcox skewness mengalami penurunan yang signifikan dari 8.84 menjadi 5.65"
   ]
  },
  {
   "cell_type": "code",
   "execution_count": 55,
   "metadata": {},
   "outputs": [
    {
     "data": {
      "text/plain": [
       "5.644799850662935"
      ]
     },
     "execution_count": 55,
     "metadata": {},
     "output_type": "execute_result"
    }
   ],
   "source": [
    "df['surge_multiplier']=stats.boxcox(df['surge_multiplier'])[0]\n",
    "pd.Series(df['surge_multiplier']).skew()"
   ]
  },
  {
   "cell_type": "markdown",
   "metadata": {},
   "source": [
    "# Pendefinisian Model"
   ]
  },
  {
   "cell_type": "code",
   "execution_count": 56,
   "metadata": {},
   "outputs": [],
   "source": [
    "y = df['price'].values\n",
    "X = df.drop(columns=['price'],axis=1).values\n",
    "\n",
    "X_train, X_test, y_train, y_test = train_test_split(X, y, test_size=0.3, random_state=0)"
   ]
  },
  {
   "cell_type": "code",
   "execution_count": 57,
   "metadata": {},
   "outputs": [
    {
     "name": "stdout",
     "output_type": "stream",
     "text": [
      "xtest : (189808, 16)\n",
      "xtrain : (442883, 16)\n"
     ]
    }
   ],
   "source": [
    "print('xtest :', X_test.shape)\n",
    "print('xtrain :', X_train.shape)"
   ]
  },
  {
   "cell_type": "markdown",
   "metadata": {},
   "source": [
    "- membagi model menjadi train-dev-test"
   ]
  },
  {
   "cell_type": "markdown",
   "metadata": {},
   "source": [
    "# Pelatihan Model"
   ]
  },
  {
   "cell_type": "code",
   "execution_count": 58,
   "metadata": {},
   "outputs": [],
   "source": [
    "lin_reg = LinearRegression()\n",
    "model = lin_reg.fit(X_train, y_train)\n",
    "y_pred = model.predict(X_test)"
   ]
  },
  {
   "cell_type": "code",
   "execution_count": 59,
   "metadata": {},
   "outputs": [],
   "source": [
    "y_prediction = lin_reg.predict(X_test)"
   ]
  },
  {
   "cell_type": "markdown",
   "metadata": {},
   "source": [
    "# Evaluasi Model"
   ]
  },
  {
   "cell_type": "code",
   "execution_count": 60,
   "metadata": {},
   "outputs": [
    {
     "data": {
      "text/plain": [
       "0.9304520625768655"
      ]
     },
     "execution_count": 60,
     "metadata": {},
     "output_type": "execute_result"
    }
   ],
   "source": [
    "r2_score(y_test, y_pred)"
   ]
  }
 ],
 "metadata": {
  "interpreter": {
   "hash": "916dbcbb3f70747c44a77c7bcd40155683ae19c65e1c03b4aa3499c5328201f1"
  },
  "kernelspec": {
   "display_name": "Python 3.8.10 64-bit",
   "language": "python",
   "name": "python3"
  },
  "language_info": {
   "codemirror_mode": {
    "name": "ipython",
    "version": 3
   },
   "file_extension": ".py",
   "mimetype": "text/x-python",
   "name": "python",
   "nbconvert_exporter": "python",
   "pygments_lexer": "ipython3",
   "version": "3.8.10"
  },
  "orig_nbformat": 4
 },
 "nbformat": 4,
 "nbformat_minor": 2
}
